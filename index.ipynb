{
 "cells": [
  {
   "cell_type": "markdown",
   "metadata": {
    "colab_type": "text",
    "id": "view-in-github"
   },
   "source": [
    "<a href=\"https://colab.research.google.com/github/Kamaukaguru/NLP-twitter-analysis/blob/EDA/index.ipynb\" target=\"_parent\"><img src=\"https://colab.research.google.com/assets/colab-badge.svg\" alt=\"Open In Colab\"/></a>"
   ]
  },
  {
   "cell_type": "markdown",
   "metadata": {
    "id": "ea8pR9S88WVW"
   },
   "source": [
    "## NLP ANALYSIS ON TWITTER FEEDBACK ON APPLE AND GOOGLE PRODUCTS"
   ]
  },
  {
   "cell_type": "markdown",
   "metadata": {
    "id": "aIYxZnfk8WVz"
   },
   "source": [
    "* Final Project Submission\n",
    "* Group Members\n",
    "   1. Benson Kamau\n",
    "   2. Kevin Muchori\n",
    "   3. Nancy Chelangat\n",
    "   4. Sally Kinyanjui\n",
    "   5. Breden Mugambi\n",
    "\n",
    "* Student Pace: Full-Time\n",
    "* Instructor's: Nikita Njoroge"
   ]
  },
  {
   "cell_type": "markdown",
   "metadata": {},
   "source": [
    "## 1.0 BUSINESS UNDERSTANDING\n",
    "\n",
    "### 1.1 Introduction\n",
    "\n",
    "Apple and Google have been constantly innovating and changing their products, services, and customer experiences. This has led to a surge in customer feedback and a need for companies to analyze and understand the sentiments expressed by their users. Tweets provide a unique platform for companies to gather feedback and respond to their customers, which can be a valuable resource for understanding consumer behavior and making data-driven decisions. This project aims to analyze the sentiments expressed in tweets about Apple and Google products.\n"
   ]
  },
  {
   "cell_type": "markdown",
   "metadata": {
    "id": "WdWwsNjs8WV0"
   },
   "source": [
    "### 1.2 Problem Statement\n",
    "Accurately classifying the sentiments expressed in tweets about topics or brands into specific classes- positive, negative or neutral is a huge challenge for companies like Apple and Google. Given the diverse nature of informal data, with its use of slang, abbreviations, coming up with a reliable sentiment analysis model that can effectively interpret and classify the tweets can be a complex task. Getting this task right provides a wide variety of novel information for a company like Apple by providing insights and creating better understanding overall of how consumers interact with products/brands."
   ]
  },
  {
   "cell_type": "markdown",
   "metadata": {
    "id": "b6lWgPtP8WV1"
   },
   "source": [
    "### 1.3 Objective\n",
    "The main objective is to build a model that can rate the sentiment of  a tweet based on its content."
   ]
  },
  {
   "cell_type": "markdown",
   "metadata": {
    "id": "Z08gzkdG8WV7"
   },
   "source": [
    "#### Project Success Metrics\n",
    "Over 70% accuracy on the testing data."
   ]
  },
  {
   "cell_type": "markdown",
   "metadata": {
    "id": "XdltzbpU8WWK"
   },
   "source": [
    "#### Importing relavent Libraries"
   ]
  },
  {
   "cell_type": "code",
   "execution_count": 1,
   "metadata": {
    "id": "6Rgz5FRV8WWL"
   },
   "outputs": [],
   "source": [
    "import re\n",
    "import nltk\n",
    "import warnings\n",
    "import numpy as np\n",
    "import pandas as pd\n",
    "import seaborn as sns\n",
    "from string import punctuation\n",
    "import matplotlib.pyplot as plt\n",
    "from nltk.stem import PorterStemmer\n",
    "from nltk.stem import WordNetLemmatizer\n",
    "from nltk.corpus import stopwords, wordnet\n",
    "from sklearn.naive_bayes import MultinomialNB\n",
    "from sklearn.ensemble import RandomForestClassifier\n",
    "from sklearn.model_selection import train_test_split\n",
    "from sklearn.metrics import classification_report, confusion_matrix\n",
    "from sklearn.feature_extraction.text import TfidfVectorizer, CountVectorizer\n",
    "from sklearn.metrics import accuracy_score, precision_score, recall_score, f1_score\n",
    "from nltk.tokenize import regexp_tokenize, word_tokenize,TweetTokenizer, RegexpTokenizer\n",
    "\n",
    "\n",
    "\n"
   ]
  },
  {
   "cell_type": "code",
   "execution_count": 2,
   "metadata": {
    "colab": {
     "base_uri": "https://localhost:8080/"
    },
    "id": "RcBD2D8z7ZHn",
    "outputId": "60dd43ed-b1f5-46af-af5c-c15332b28189"
   },
   "outputs": [
    {
     "name": "stderr",
     "output_type": "stream",
     "text": [
      "[nltk_data] Downloading package punkt to\n",
      "[nltk_data]     C:\\Users\\User\\AppData\\Roaming\\nltk_data...\n",
      "[nltk_data]   Package punkt is already up-to-date!\n",
      "[nltk_data] Downloading package wordnet to\n",
      "[nltk_data]     C:\\Users\\User\\AppData\\Roaming\\nltk_data...\n",
      "[nltk_data]   Package wordnet is already up-to-date!\n",
      "[nltk_data] Downloading package stopwords to\n",
      "[nltk_data]     C:\\Users\\User\\AppData\\Roaming\\nltk_data...\n",
      "[nltk_data]   Package stopwords is already up-to-date!\n"
     ]
    }
   ],
   "source": [
    "nltk.download('punkt')\n",
    "nltk.download('wordnet')\n",
    "nltk.download('stopwords')\n",
    "warnings.filterwarnings('ignore')"
   ]
  },
  {
   "cell_type": "markdown",
   "metadata": {
    "id": "xW-Z056e8WWY"
   },
   "source": [
    "## 2.0 DATA LOADING AND UNDERSTANDING"
   ]
  },
  {
   "cell_type": "markdown",
   "metadata": {
    "id": "cx0A2w7e8WWZ"
   },
   "source": [
    "The dataset that will be used in this study comes from CrowdFlower via data.world through this link - https://data.world/crowdflower/brands-and-product-emotions.\n"
   ]
  },
  {
   "cell_type": "code",
   "execution_count": 3,
   "metadata": {
    "id": "x9MZfQTS8WWa"
   },
   "outputs": [],
   "source": [
    "#create a function that loads data and gets the info about the data.\n",
    "def load_and_get_info(file_path, encoding='utf-8'):\n",
    "    try :\n",
    "        # Load data\n",
    "        df = pd.read_csv(file_path, encoding=encoding)\n",
    "\n",
    "        # Display the first few rows of the DataFrame\n",
    "        df_head = df.head()\n",
    "\n",
    "        # Get information about the DataFrame\n",
    "        df_info = df.info()\n",
    "\n",
    "        return df,df_info, df_head\n",
    "    except UnicodeDecodeError:\n",
    "        print(f\"Failed to decode {file_path} with encoding {encoding}. Trying with 'latin1' encoding.\")\n",
    "        return load_and_get_info(file_path, encoding='latin1')\n",
    "\n",
    "# A function that checks the data types of DataFrame columns and return the count of columns for each data type category.\n",
    "def check_data_types(df):\n",
    "\n",
    "    data_type_counts = df.dtypes.replace({'object': 'string'}).value_counts().to_dict()\n",
    "    return data_type_counts"
   ]
  },
  {
   "cell_type": "code",
   "execution_count": 4,
   "metadata": {
    "colab": {
     "base_uri": "https://localhost:8080/",
     "height": 781
    },
    "id": "xesI4pnF8WWc",
    "outputId": "bf32eeb2-62c5-435a-ecc3-48d92ea50644"
   },
   "outputs": [
    {
     "name": "stdout",
     "output_type": "stream",
     "text": [
      "Failed to decode tweet-analysis.csv with encoding utf-8. Trying with 'latin1' encoding.\n",
      "<class 'pandas.core.frame.DataFrame'>\n",
      "RangeIndex: 9093 entries, 0 to 9092\n",
      "Data columns (total 3 columns):\n",
      " #   Column                                              Non-Null Count  Dtype \n",
      "---  ------                                              --------------  ----- \n",
      " 0   tweet_text                                          9092 non-null   object\n",
      " 1   emotion_in_tweet_is_directed_at                     3291 non-null   object\n",
      " 2   is_there_an_emotion_directed_at_a_brand_or_product  9093 non-null   object\n",
      "dtypes: object(3)\n",
      "memory usage: 213.2+ KB\n",
      "None\n",
      "\n",
      "First few rows of the DataFrame:\n"
     ]
    },
    {
     "data": {
      "text/html": [
       "<div>\n",
       "<style scoped>\n",
       "    .dataframe tbody tr th:only-of-type {\n",
       "        vertical-align: middle;\n",
       "    }\n",
       "\n",
       "    .dataframe tbody tr th {\n",
       "        vertical-align: top;\n",
       "    }\n",
       "\n",
       "    .dataframe thead th {\n",
       "        text-align: right;\n",
       "    }\n",
       "</style>\n",
       "<table border=\"1\" class=\"dataframe\">\n",
       "  <thead>\n",
       "    <tr style=\"text-align: right;\">\n",
       "      <th></th>\n",
       "      <th>tweet_text</th>\n",
       "      <th>emotion_in_tweet_is_directed_at</th>\n",
       "      <th>is_there_an_emotion_directed_at_a_brand_or_product</th>\n",
       "    </tr>\n",
       "  </thead>\n",
       "  <tbody>\n",
       "    <tr>\n",
       "      <th>0</th>\n",
       "      <td>.@wesley83 I have a 3G iPhone. After 3 hrs twe...</td>\n",
       "      <td>iPhone</td>\n",
       "      <td>Negative emotion</td>\n",
       "    </tr>\n",
       "    <tr>\n",
       "      <th>1</th>\n",
       "      <td>@jessedee Know about @fludapp ? Awesome iPad/i...</td>\n",
       "      <td>iPad or iPhone App</td>\n",
       "      <td>Positive emotion</td>\n",
       "    </tr>\n",
       "    <tr>\n",
       "      <th>2</th>\n",
       "      <td>@swonderlin Can not wait for #iPad 2 also. The...</td>\n",
       "      <td>iPad</td>\n",
       "      <td>Positive emotion</td>\n",
       "    </tr>\n",
       "    <tr>\n",
       "      <th>3</th>\n",
       "      <td>@sxsw I hope this year's festival isn't as cra...</td>\n",
       "      <td>iPad or iPhone App</td>\n",
       "      <td>Negative emotion</td>\n",
       "    </tr>\n",
       "    <tr>\n",
       "      <th>4</th>\n",
       "      <td>@sxtxstate great stuff on Fri #SXSW: Marissa M...</td>\n",
       "      <td>Google</td>\n",
       "      <td>Positive emotion</td>\n",
       "    </tr>\n",
       "  </tbody>\n",
       "</table>\n",
       "</div>"
      ],
      "text/plain": [
       "                                          tweet_text  \\\n",
       "0  .@wesley83 I have a 3G iPhone. After 3 hrs twe...   \n",
       "1  @jessedee Know about @fludapp ? Awesome iPad/i...   \n",
       "2  @swonderlin Can not wait for #iPad 2 also. The...   \n",
       "3  @sxsw I hope this year's festival isn't as cra...   \n",
       "4  @sxtxstate great stuff on Fri #SXSW: Marissa M...   \n",
       "\n",
       "  emotion_in_tweet_is_directed_at  \\\n",
       "0                          iPhone   \n",
       "1              iPad or iPhone App   \n",
       "2                            iPad   \n",
       "3              iPad or iPhone App   \n",
       "4                          Google   \n",
       "\n",
       "  is_there_an_emotion_directed_at_a_brand_or_product  \n",
       "0                                   Negative emotion  \n",
       "1                                   Positive emotion  \n",
       "2                                   Positive emotion  \n",
       "3                                   Negative emotion  \n",
       "4                                   Positive emotion  "
      ]
     },
     "execution_count": 4,
     "metadata": {},
     "output_type": "execute_result"
    }
   ],
   "source": [
    "file_path1 = 'tweet-analysis.csv'\n",
    "df1,data_info, data_head = load_and_get_info(file_path1)\n",
    "print(data_info)\n",
    "print(\"\\nFirst few rows of the DataFrame:\")\n",
    "data_head #data_head"
   ]
  },
  {
   "cell_type": "markdown",
   "metadata": {
    "id": "jrXQCBEb8WWt"
   },
   "source": [
    "The dataset contains the following columns:\n",
    "\n",
    "1. 'tweet_text' column\n",
    "    - Contains the text of the tweet.\n",
    "2. 'emotion_in_tweet_is_directed_at' column\n",
    "    - Contains the person or entity that the tweet is directed at.\n",
    "3. 'is_there_an_emotion_directed_at_a_brand_or_product' column\n",
    "    - Indicates the kind of emotion in the tweet directed at the brand or product\n",
    "\n",
    "The dataset has a total of 9093 data points.\n",
    "\n"
   ]
  },
  {
   "cell_type": "code",
   "execution_count": 5,
   "metadata": {
    "colab": {
     "base_uri": "https://localhost:8080/"
    },
    "id": "ydnggXcA8WWw",
    "outputId": "9a063017-ae31-42f8-d77f-ea86a64f2938"
   },
   "outputs": [
    {
     "name": "stdout",
     "output_type": "stream",
     "text": [
      "Count of columns for each data type category:\n",
      "{'string': 3}\n"
     ]
    }
   ],
   "source": [
    "#check the data types of DataFrame columns in our training set values.\n",
    "data_type_counts = check_data_types(df1)\n",
    "print(\"Count of columns for each data type category:\")\n",
    "print(data_type_counts)"
   ]
  },
  {
   "cell_type": "markdown",
   "metadata": {
    "id": "6AYcqwwZ8WWx"
   },
   "source": [
    "The dataset has one data type category .i., object type.\n"
   ]
  },
  {
   "cell_type": "markdown",
   "metadata": {
    "id": "gPi_ltSz8WWx"
   },
   "source": [
    "To simplify working with the dataset, we will rename the columns to simpler and shorter names.\n"
   ]
  },
  {
   "cell_type": "code",
   "execution_count": 6,
   "metadata": {
    "colab": {
     "base_uri": "https://localhost:8080/",
     "height": 345
    },
    "id": "-GokMzMp8WWy",
    "outputId": "8b9f613d-ca60-40b9-c383-a5fe173a123f"
   },
   "outputs": [
    {
     "name": "stdout",
     "output_type": "stream",
     "text": [
      "\n",
      "Renamed DataFrame columns:\n",
      "Index(['tweet', 'target_entity', 'emotion'], dtype='object')\n"
     ]
    },
    {
     "data": {
      "text/html": [
       "<div>\n",
       "<style scoped>\n",
       "    .dataframe tbody tr th:only-of-type {\n",
       "        vertical-align: middle;\n",
       "    }\n",
       "\n",
       "    .dataframe tbody tr th {\n",
       "        vertical-align: top;\n",
       "    }\n",
       "\n",
       "    .dataframe thead th {\n",
       "        text-align: right;\n",
       "    }\n",
       "</style>\n",
       "<table border=\"1\" class=\"dataframe\">\n",
       "  <thead>\n",
       "    <tr style=\"text-align: right;\">\n",
       "      <th></th>\n",
       "      <th>tweet</th>\n",
       "      <th>target_entity</th>\n",
       "      <th>emotion</th>\n",
       "    </tr>\n",
       "  </thead>\n",
       "  <tbody>\n",
       "    <tr>\n",
       "      <th>0</th>\n",
       "      <td>.@wesley83 I have a 3G iPhone. After 3 hrs twe...</td>\n",
       "      <td>iPhone</td>\n",
       "      <td>Negative emotion</td>\n",
       "    </tr>\n",
       "    <tr>\n",
       "      <th>1</th>\n",
       "      <td>@jessedee Know about @fludapp ? Awesome iPad/i...</td>\n",
       "      <td>iPad or iPhone App</td>\n",
       "      <td>Positive emotion</td>\n",
       "    </tr>\n",
       "    <tr>\n",
       "      <th>2</th>\n",
       "      <td>@swonderlin Can not wait for #iPad 2 also. The...</td>\n",
       "      <td>iPad</td>\n",
       "      <td>Positive emotion</td>\n",
       "    </tr>\n",
       "    <tr>\n",
       "      <th>3</th>\n",
       "      <td>@sxsw I hope this year's festival isn't as cra...</td>\n",
       "      <td>iPad or iPhone App</td>\n",
       "      <td>Negative emotion</td>\n",
       "    </tr>\n",
       "    <tr>\n",
       "      <th>4</th>\n",
       "      <td>@sxtxstate great stuff on Fri #SXSW: Marissa M...</td>\n",
       "      <td>Google</td>\n",
       "      <td>Positive emotion</td>\n",
       "    </tr>\n",
       "  </tbody>\n",
       "</table>\n",
       "</div>"
      ],
      "text/plain": [
       "                                               tweet       target_entity  \\\n",
       "0  .@wesley83 I have a 3G iPhone. After 3 hrs twe...              iPhone   \n",
       "1  @jessedee Know about @fludapp ? Awesome iPad/i...  iPad or iPhone App   \n",
       "2  @swonderlin Can not wait for #iPad 2 also. The...                iPad   \n",
       "3  @sxsw I hope this year's festival isn't as cra...  iPad or iPhone App   \n",
       "4  @sxtxstate great stuff on Fri #SXSW: Marissa M...              Google   \n",
       "\n",
       "            emotion  \n",
       "0  Negative emotion  \n",
       "1  Positive emotion  \n",
       "2  Positive emotion  \n",
       "3  Negative emotion  \n",
       "4  Positive emotion  "
      ]
     },
     "execution_count": 6,
     "metadata": {},
     "output_type": "execute_result"
    }
   ],
   "source": [
    "# function to rename the column names\n",
    "def rename_columns(df, columns_dict):\n",
    "    \"\"\"\n",
    "   Parameters:\n",
    "    df (pd.DataFrame): The DataFrame whose columns need to be renamed.\n",
    "    columns_dict (dict): A dictionary where keys are current column names and values are the new column names.\n",
    "    \"\"\"\n",
    "    df.rename(columns=columns_dict, inplace=True)\n",
    "    return df\n",
    "\n",
    "# Define the dictionary for renaming columns\n",
    "columns_dict = {\n",
    "    'tweet_text': 'tweet',\n",
    "    'emotion_in_tweet_is_directed_at': 'target_entity',\n",
    "    'is_there_an_emotion_directed_at_a_brand_or_product': 'emotion'\n",
    "}\n",
    "\n",
    "# Rename columns using the dictionary\n",
    "df1 = rename_columns(df1, columns_dict)\n",
    "\n",
    "print(\"\\nRenamed DataFrame columns:\")\n",
    "print(df1.columns)\n",
    "df1.head()"
   ]
  },
  {
   "cell_type": "markdown",
   "metadata": {
    "id": "J-4s8oqk8WWy"
   },
   "source": [
    "The dataset has been successfully renamed and the column names are now more descriptive."
   ]
  },
  {
   "cell_type": "markdown",
   "metadata": {
    "id": "ylIiF6vg8ljY"
   },
   "source": [
    "## 3.0 DATA CLEANING\n",
    "This is an essential aspect so as to ensure that the text data is consistent and free of errors. For this project, we will check for missing values, checking for duplicates,\n",
    "remove white spaces, handle capitalization.\n",
    "\n"
   ]
  },
  {
   "cell_type": "code",
   "execution_count": 7,
   "metadata": {
    "colab": {
     "base_uri": "https://localhost:8080/"
    },
    "id": "WmT2o4DJ_NF6",
    "outputId": "91f7c060-f1cf-4ef1-a5f5-0a377a869184"
   },
   "outputs": [
    {
     "data": {
      "text/plain": [
       "tweet               1\n",
       "target_entity    5802\n",
       "emotion             0\n",
       "dtype: int64"
      ]
     },
     "execution_count": 7,
     "metadata": {},
     "output_type": "execute_result"
    }
   ],
   "source": [
    "# Check missing values\n",
    "df1.isna().sum()"
   ]
  },
  {
   "cell_type": "markdown",
   "metadata": {
    "id": "QZjfpFXP_Ggn"
   },
   "source": [
    "There is only one missing tweet text value, which will be removed. There are 5,802 missing \"target_entity\" values; however, this is acceptable since the current project focuses on overall tweet sentiment rather than specific items. These missing values will be replaced with an \"Uncategorized\" classification."
   ]
  },
  {
   "cell_type": "code",
   "execution_count": 8,
   "metadata": {
    "colab": {
     "base_uri": "https://localhost:8080/"
    },
    "id": "TGSQpoJsBOsS",
    "outputId": "215f508f-b521-45fc-edb8-1ee3297dd234"
   },
   "outputs": [
    {
     "name": "stdout",
     "output_type": "stream",
     "text": [
      "<class 'pandas.core.frame.DataFrame'>\n",
      "Int64Index: 9070 entries, 0 to 9092\n",
      "Data columns (total 3 columns):\n",
      " #   Column         Non-Null Count  Dtype \n",
      "---  ------         --------------  ----- \n",
      " 0   tweet          9070 non-null   object\n",
      " 1   target_entity  9070 non-null   object\n",
      " 2   emotion        9070 non-null   object\n",
      "dtypes: object(3)\n",
      "memory usage: 283.4+ KB\n"
     ]
    }
   ],
   "source": [
    "#Removing Null Tweets, Removing Duplicate entries and Filling in missing Item Values\n",
    "\n",
    "#Removing 1 null 'Tweet' Entry\n",
    "df1.dropna(subset = ['tweet'], inplace=True)\n",
    "\n",
    "#Removing Duplicates\n",
    "df1.drop_duplicates(inplace=True)\n",
    "\n",
    "#Filling in Null \"Item\" categories with \"Uncategorized\"\n",
    "df1['target_entity'].fillna('Uncategorized', inplace=True)\n",
    "\n",
    "df1.info()"
   ]
  },
  {
   "cell_type": "markdown",
   "metadata": {
    "id": "EZ-LrgnzBzmo"
   },
   "source": [
    "At this point there should not be any duplicate entries or null values in the data and the total row count in the dataset has decreased from 9092 to 9070."
   ]
  },
  {
   "cell_type": "markdown",
   "metadata": {
    "id": "JLhtBtcbACx1"
   },
   "source": [
    "Text Cleaning: The function below cleans the tweet column by removing white spaces, converting to lower case, and removing special characters."
   ]
  },
  {
   "cell_type": "code",
   "execution_count": 9,
   "metadata": {
    "colab": {
     "base_uri": "https://localhost:8080/",
     "height": 327
    },
    "id": "KOolkN-Y8WWy",
    "outputId": "ba4847d7-1161-4dd5-d6e7-282be652452d"
   },
   "outputs": [
    {
     "data": {
      "text/html": [
       "<div>\n",
       "<style scoped>\n",
       "    .dataframe tbody tr th:only-of-type {\n",
       "        vertical-align: middle;\n",
       "    }\n",
       "\n",
       "    .dataframe tbody tr th {\n",
       "        vertical-align: top;\n",
       "    }\n",
       "\n",
       "    .dataframe thead th {\n",
       "        text-align: right;\n",
       "    }\n",
       "</style>\n",
       "<table border=\"1\" class=\"dataframe\">\n",
       "  <thead>\n",
       "    <tr style=\"text-align: right;\">\n",
       "      <th></th>\n",
       "      <th>tweet</th>\n",
       "      <th>target_entity</th>\n",
       "      <th>emotion</th>\n",
       "      <th>cleaned_tweet</th>\n",
       "    </tr>\n",
       "  </thead>\n",
       "  <tbody>\n",
       "    <tr>\n",
       "      <th>0</th>\n",
       "      <td>.@wesley83 I have a 3G iPhone. After 3 hrs twe...</td>\n",
       "      <td>iPhone</td>\n",
       "      <td>Negative emotion</td>\n",
       "      <td>wesley83 i have a 3g iphone after 3 hrs tweeti...</td>\n",
       "    </tr>\n",
       "    <tr>\n",
       "      <th>1</th>\n",
       "      <td>@jessedee Know about @fludapp ? Awesome iPad/i...</td>\n",
       "      <td>iPad or iPhone App</td>\n",
       "      <td>Positive emotion</td>\n",
       "      <td>jessedee know about fludapp  awesome ipadiphon...</td>\n",
       "    </tr>\n",
       "    <tr>\n",
       "      <th>2</th>\n",
       "      <td>@swonderlin Can not wait for #iPad 2 also. The...</td>\n",
       "      <td>iPad</td>\n",
       "      <td>Positive emotion</td>\n",
       "      <td>swonderlin can not wait for ipad 2 also they s...</td>\n",
       "    </tr>\n",
       "    <tr>\n",
       "      <th>3</th>\n",
       "      <td>@sxsw I hope this year's festival isn't as cra...</td>\n",
       "      <td>iPad or iPhone App</td>\n",
       "      <td>Negative emotion</td>\n",
       "      <td>sxsw i hope this years festival isnt as crashy...</td>\n",
       "    </tr>\n",
       "    <tr>\n",
       "      <th>4</th>\n",
       "      <td>@sxtxstate great stuff on Fri #SXSW: Marissa M...</td>\n",
       "      <td>Google</td>\n",
       "      <td>Positive emotion</td>\n",
       "      <td>sxtxstate great stuff on fri sxsw marissa maye...</td>\n",
       "    </tr>\n",
       "  </tbody>\n",
       "</table>\n",
       "</div>"
      ],
      "text/plain": [
       "                                               tweet       target_entity  \\\n",
       "0  .@wesley83 I have a 3G iPhone. After 3 hrs twe...              iPhone   \n",
       "1  @jessedee Know about @fludapp ? Awesome iPad/i...  iPad or iPhone App   \n",
       "2  @swonderlin Can not wait for #iPad 2 also. The...                iPad   \n",
       "3  @sxsw I hope this year's festival isn't as cra...  iPad or iPhone App   \n",
       "4  @sxtxstate great stuff on Fri #SXSW: Marissa M...              Google   \n",
       "\n",
       "            emotion                                      cleaned_tweet  \n",
       "0  Negative emotion  wesley83 i have a 3g iphone after 3 hrs tweeti...  \n",
       "1  Positive emotion  jessedee know about fludapp  awesome ipadiphon...  \n",
       "2  Positive emotion  swonderlin can not wait for ipad 2 also they s...  \n",
       "3  Negative emotion  sxsw i hope this years festival isnt as crashy...  \n",
       "4  Positive emotion  sxtxstate great stuff on fri sxsw marissa maye...  "
      ]
     },
     "execution_count": 9,
     "metadata": {},
     "output_type": "execute_result"
    }
   ],
   "source": [
    "def clean_text(text):\n",
    "    if not isinstance(text, str):\n",
    "        return \"\"\n",
    "    text = text.strip()\n",
    "    text = text.lower()\n",
    "    pattern = re.compile(r'[^a-zA-Z0-9\\s]')\n",
    "    text = pattern.sub('', text)\n",
    "    return text\n",
    "\n",
    "# Apply the clean_text function to the tweet column\n",
    "df1['cleaned_tweet'] = df1['tweet'].apply(clean_text)\n",
    "df1.head()"
   ]
  },
  {
   "cell_type": "markdown",
   "metadata": {
    "id": "Zx48LjRrLUA_"
   },
   "source": [
    "The additional column cleaned_tweet stores the text after text cleaning."
   ]
  },
  {
   "cell_type": "markdown",
   "metadata": {
    "id": "9n1O0lS4x2V_"
   },
   "source": [
    "### 3.1 Lemmatization ,stop word removal and tokenization"
   ]
  },
  {
   "cell_type": "code",
   "execution_count": 10,
   "metadata": {
    "colab": {
     "base_uri": "https://localhost:8080/",
     "height": 816
    },
    "id": "UfTQM9P1x2V_",
    "outputId": "71f6c747-5137-4d13-8af3-feb39ad61c46"
   },
   "outputs": [
    {
     "data": {
      "text/html": [
       "<div>\n",
       "<style scoped>\n",
       "    .dataframe tbody tr th:only-of-type {\n",
       "        vertical-align: middle;\n",
       "    }\n",
       "\n",
       "    .dataframe tbody tr th {\n",
       "        vertical-align: top;\n",
       "    }\n",
       "\n",
       "    .dataframe thead th {\n",
       "        text-align: right;\n",
       "    }\n",
       "</style>\n",
       "<table border=\"1\" class=\"dataframe\">\n",
       "  <thead>\n",
       "    <tr style=\"text-align: right;\">\n",
       "      <th></th>\n",
       "      <th>tweet</th>\n",
       "      <th>target_entity</th>\n",
       "      <th>emotion</th>\n",
       "      <th>cleaned_tweet</th>\n",
       "      <th>lemmatized_tweet</th>\n",
       "    </tr>\n",
       "  </thead>\n",
       "  <tbody>\n",
       "    <tr>\n",
       "      <th>0</th>\n",
       "      <td>.@wesley83 I have a 3G iPhone. After 3 hrs twe...</td>\n",
       "      <td>iPhone</td>\n",
       "      <td>Negative emotion</td>\n",
       "      <td>wesley83 i have a 3g iphone after 3 hrs tweeti...</td>\n",
       "      <td>wesley83 i have a 3g iphone after 3 hr tweetin...</td>\n",
       "    </tr>\n",
       "    <tr>\n",
       "      <th>1</th>\n",
       "      <td>@jessedee Know about @fludapp ? Awesome iPad/i...</td>\n",
       "      <td>iPad or iPhone App</td>\n",
       "      <td>Positive emotion</td>\n",
       "      <td>jessedee know about fludapp  awesome ipadiphon...</td>\n",
       "      <td>jessedee know about fludapp awesome ipadiphone...</td>\n",
       "    </tr>\n",
       "    <tr>\n",
       "      <th>2</th>\n",
       "      <td>@swonderlin Can not wait for #iPad 2 also. The...</td>\n",
       "      <td>iPad</td>\n",
       "      <td>Positive emotion</td>\n",
       "      <td>swonderlin can not wait for ipad 2 also they s...</td>\n",
       "      <td>swonderlin can not wait for ipad 2 also they s...</td>\n",
       "    </tr>\n",
       "    <tr>\n",
       "      <th>3</th>\n",
       "      <td>@sxsw I hope this year's festival isn't as cra...</td>\n",
       "      <td>iPad or iPhone App</td>\n",
       "      <td>Negative emotion</td>\n",
       "      <td>sxsw i hope this years festival isnt as crashy...</td>\n",
       "      <td>sxsw i hope this year festival isnt a crashy a...</td>\n",
       "    </tr>\n",
       "    <tr>\n",
       "      <th>4</th>\n",
       "      <td>@sxtxstate great stuff on Fri #SXSW: Marissa M...</td>\n",
       "      <td>Google</td>\n",
       "      <td>Positive emotion</td>\n",
       "      <td>sxtxstate great stuff on fri sxsw marissa maye...</td>\n",
       "      <td>sxtxstate great stuff on fri sxsw marissa maye...</td>\n",
       "    </tr>\n",
       "    <tr>\n",
       "      <th>5</th>\n",
       "      <td>@teachntech00 New iPad Apps For #SpeechTherapy...</td>\n",
       "      <td>Uncategorized</td>\n",
       "      <td>No emotion toward brand or product</td>\n",
       "      <td>teachntech00 new ipad apps for speechtherapy a...</td>\n",
       "      <td>teachntech00 new ipad apps for speechtherapy a...</td>\n",
       "    </tr>\n",
       "    <tr>\n",
       "      <th>7</th>\n",
       "      <td>#SXSW is just starting, #CTIA is around the co...</td>\n",
       "      <td>Android</td>\n",
       "      <td>Positive emotion</td>\n",
       "      <td>sxsw is just starting ctia is around the corne...</td>\n",
       "      <td>sxsw is just starting ctia is around the corne...</td>\n",
       "    </tr>\n",
       "    <tr>\n",
       "      <th>8</th>\n",
       "      <td>Beautifully smart and simple idea RT @madebyma...</td>\n",
       "      <td>iPad or iPhone App</td>\n",
       "      <td>Positive emotion</td>\n",
       "      <td>beautifully smart and simple idea rt madebyman...</td>\n",
       "      <td>beautifully smart and simple idea rt madebyman...</td>\n",
       "    </tr>\n",
       "    <tr>\n",
       "      <th>9</th>\n",
       "      <td>Counting down the days to #sxsw plus strong Ca...</td>\n",
       "      <td>Apple</td>\n",
       "      <td>Positive emotion</td>\n",
       "      <td>counting down the days to sxsw plus strong can...</td>\n",
       "      <td>counting down the day to sxsw plus strong cana...</td>\n",
       "    </tr>\n",
       "    <tr>\n",
       "      <th>10</th>\n",
       "      <td>Excited to meet the @samsungmobileus at #sxsw ...</td>\n",
       "      <td>Android</td>\n",
       "      <td>Positive emotion</td>\n",
       "      <td>excited to meet the samsungmobileus at sxsw so...</td>\n",
       "      <td>excited to meet the samsungmobileus at sxsw so...</td>\n",
       "    </tr>\n",
       "  </tbody>\n",
       "</table>\n",
       "</div>"
      ],
      "text/plain": [
       "                                                tweet       target_entity  \\\n",
       "0   .@wesley83 I have a 3G iPhone. After 3 hrs twe...              iPhone   \n",
       "1   @jessedee Know about @fludapp ? Awesome iPad/i...  iPad or iPhone App   \n",
       "2   @swonderlin Can not wait for #iPad 2 also. The...                iPad   \n",
       "3   @sxsw I hope this year's festival isn't as cra...  iPad or iPhone App   \n",
       "4   @sxtxstate great stuff on Fri #SXSW: Marissa M...              Google   \n",
       "5   @teachntech00 New iPad Apps For #SpeechTherapy...       Uncategorized   \n",
       "7   #SXSW is just starting, #CTIA is around the co...             Android   \n",
       "8   Beautifully smart and simple idea RT @madebyma...  iPad or iPhone App   \n",
       "9   Counting down the days to #sxsw plus strong Ca...               Apple   \n",
       "10  Excited to meet the @samsungmobileus at #sxsw ...             Android   \n",
       "\n",
       "                               emotion  \\\n",
       "0                     Negative emotion   \n",
       "1                     Positive emotion   \n",
       "2                     Positive emotion   \n",
       "3                     Negative emotion   \n",
       "4                     Positive emotion   \n",
       "5   No emotion toward brand or product   \n",
       "7                     Positive emotion   \n",
       "8                     Positive emotion   \n",
       "9                     Positive emotion   \n",
       "10                    Positive emotion   \n",
       "\n",
       "                                        cleaned_tweet  \\\n",
       "0   wesley83 i have a 3g iphone after 3 hrs tweeti...   \n",
       "1   jessedee know about fludapp  awesome ipadiphon...   \n",
       "2   swonderlin can not wait for ipad 2 also they s...   \n",
       "3   sxsw i hope this years festival isnt as crashy...   \n",
       "4   sxtxstate great stuff on fri sxsw marissa maye...   \n",
       "5   teachntech00 new ipad apps for speechtherapy a...   \n",
       "7   sxsw is just starting ctia is around the corne...   \n",
       "8   beautifully smart and simple idea rt madebyman...   \n",
       "9   counting down the days to sxsw plus strong can...   \n",
       "10  excited to meet the samsungmobileus at sxsw so...   \n",
       "\n",
       "                                     lemmatized_tweet  \n",
       "0   wesley83 i have a 3g iphone after 3 hr tweetin...  \n",
       "1   jessedee know about fludapp awesome ipadiphone...  \n",
       "2   swonderlin can not wait for ipad 2 also they s...  \n",
       "3   sxsw i hope this year festival isnt a crashy a...  \n",
       "4   sxtxstate great stuff on fri sxsw marissa maye...  \n",
       "5   teachntech00 new ipad apps for speechtherapy a...  \n",
       "7   sxsw is just starting ctia is around the corne...  \n",
       "8   beautifully smart and simple idea rt madebyman...  \n",
       "9   counting down the day to sxsw plus strong cana...  \n",
       "10  excited to meet the samsungmobileus at sxsw so...  "
      ]
     },
     "execution_count": 10,
     "metadata": {},
     "output_type": "execute_result"
    }
   ],
   "source": [
    "from nltk.stem import WordNetLemmatizer\n",
    "from nltk.tokenize import word_tokenize\n",
    "\n",
    "# Initialize the lemmatizer\n",
    "lemmatizer = WordNetLemmatizer()\n",
    "\n",
    "# function to lemmatize text\n",
    "def lemmatize_text(text):\n",
    "    tokens = word_tokenize(text)\n",
    "    lemmatized_tokens = [lemmatizer.lemmatize(token) for token in tokens]\n",
    "    return ' '.join(lemmatized_tokens)\n",
    "\n",
    "# Apply the lemmatize_text function to the 'cleaned_tweet' column\n",
    "df1['lemmatized_tweet'] = df1['cleaned_tweet'].apply(lemmatize_text)\n",
    "\n",
    "df1.head(10)\n",
    "\n",
    "\n"
   ]
  },
  {
   "cell_type": "markdown",
   "metadata": {
    "id": "Sit-ecA0x2WA"
   },
   "source": [
    "WordNetLemmatizer() is used to reduce words to their base or root form. This is what is known as lemmatization.\n",
    "\n",
    "This function def lemmatize_text(text)  tokenizes the input text into words,lemmatizes each word and joins the lemmatized words back into a string.\n",
    "\n",
    "From the output , the original tweet is the raw tweet text,the cleaned  tweet is the twwet after preprocessing  and the lemmatized tweet is the cleaned tweet after lemmatization."
   ]
  },
  {
   "cell_type": "code",
   "execution_count": 11,
   "metadata": {
    "colab": {
     "base_uri": "https://localhost:8080/"
    },
    "id": "4I7cPfxsx2WA",
    "outputId": "8e4685fa-da2f-4dac-b6bf-e1fec54badb1"
   },
   "outputs": [
    {
     "data": {
      "text/plain": [
       "{'a',\n",
       " 'about',\n",
       " 'above',\n",
       " 'after',\n",
       " 'again',\n",
       " 'against',\n",
       " 'ain',\n",
       " 'all',\n",
       " 'am',\n",
       " 'an',\n",
       " 'and',\n",
       " 'any',\n",
       " 'are',\n",
       " 'aren',\n",
       " \"aren't\",\n",
       " 'as',\n",
       " 'at',\n",
       " 'be',\n",
       " 'because',\n",
       " 'been',\n",
       " 'before',\n",
       " 'being',\n",
       " 'below',\n",
       " 'between',\n",
       " 'both',\n",
       " 'but',\n",
       " 'by',\n",
       " 'can',\n",
       " 'couldn',\n",
       " \"couldn't\",\n",
       " 'd',\n",
       " 'did',\n",
       " 'didn',\n",
       " \"didn't\",\n",
       " 'do',\n",
       " 'does',\n",
       " 'doesn',\n",
       " \"doesn't\",\n",
       " 'doing',\n",
       " 'don',\n",
       " \"don't\",\n",
       " 'down',\n",
       " 'during',\n",
       " 'each',\n",
       " 'few',\n",
       " 'for',\n",
       " 'from',\n",
       " 'further',\n",
       " 'had',\n",
       " 'hadn',\n",
       " \"hadn't\",\n",
       " 'has',\n",
       " 'hasn',\n",
       " \"hasn't\",\n",
       " 'have',\n",
       " 'haven',\n",
       " \"haven't\",\n",
       " 'having',\n",
       " 'he',\n",
       " 'her',\n",
       " 'here',\n",
       " 'hers',\n",
       " 'herself',\n",
       " 'him',\n",
       " 'himself',\n",
       " 'his',\n",
       " 'how',\n",
       " 'i',\n",
       " 'if',\n",
       " 'in',\n",
       " 'into',\n",
       " 'is',\n",
       " 'isn',\n",
       " \"isn't\",\n",
       " 'it',\n",
       " \"it's\",\n",
       " 'its',\n",
       " 'itself',\n",
       " 'just',\n",
       " 'll',\n",
       " 'm',\n",
       " 'ma',\n",
       " 'me',\n",
       " 'mightn',\n",
       " \"mightn't\",\n",
       " 'more',\n",
       " 'most',\n",
       " 'mustn',\n",
       " \"mustn't\",\n",
       " 'my',\n",
       " 'myself',\n",
       " 'needn',\n",
       " \"needn't\",\n",
       " 'no',\n",
       " 'nor',\n",
       " 'not',\n",
       " 'now',\n",
       " 'o',\n",
       " 'of',\n",
       " 'off',\n",
       " 'on',\n",
       " 'once',\n",
       " 'only',\n",
       " 'or',\n",
       " 'other',\n",
       " 'our',\n",
       " 'ours',\n",
       " 'ourselves',\n",
       " 'out',\n",
       " 'over',\n",
       " 'own',\n",
       " 're',\n",
       " 's',\n",
       " 'same',\n",
       " 'shan',\n",
       " \"shan't\",\n",
       " 'she',\n",
       " \"she's\",\n",
       " 'should',\n",
       " \"should've\",\n",
       " 'shouldn',\n",
       " \"shouldn't\",\n",
       " 'so',\n",
       " 'some',\n",
       " 'such',\n",
       " 't',\n",
       " 'than',\n",
       " 'that',\n",
       " \"that'll\",\n",
       " 'the',\n",
       " 'their',\n",
       " 'theirs',\n",
       " 'them',\n",
       " 'themselves',\n",
       " 'then',\n",
       " 'there',\n",
       " 'these',\n",
       " 'they',\n",
       " 'this',\n",
       " 'those',\n",
       " 'through',\n",
       " 'to',\n",
       " 'too',\n",
       " 'under',\n",
       " 'until',\n",
       " 'up',\n",
       " 've',\n",
       " 'very',\n",
       " 'was',\n",
       " 'wasn',\n",
       " \"wasn't\",\n",
       " 'we',\n",
       " 'were',\n",
       " 'weren',\n",
       " \"weren't\",\n",
       " 'what',\n",
       " 'when',\n",
       " 'where',\n",
       " 'which',\n",
       " 'while',\n",
       " 'who',\n",
       " 'whom',\n",
       " 'why',\n",
       " 'will',\n",
       " 'with',\n",
       " 'won',\n",
       " \"won't\",\n",
       " 'wouldn',\n",
       " \"wouldn't\",\n",
       " 'y',\n",
       " 'you',\n",
       " \"you'd\",\n",
       " \"you'll\",\n",
       " \"you're\",\n",
       " \"you've\",\n",
       " 'your',\n",
       " 'yours',\n",
       " 'yourself',\n",
       " 'yourselves'}"
      ]
     },
     "execution_count": 11,
     "metadata": {},
     "output_type": "execute_result"
    }
   ],
   "source": [
    "# Load the stop words\n",
    "stop_words = set(stopwords.words('english'))\n",
    "stop_words"
   ]
  },
  {
   "cell_type": "markdown",
   "metadata": {
    "id": "70AO4_I6x2WB"
   },
   "source": [
    "In the input, english indicates that the output required is supposed to be a set of English stop words.\n",
    "\n",
    "This set of stop words can be used in text preprocessing tasks"
   ]
  },
  {
   "cell_type": "code",
   "execution_count": 12,
   "metadata": {
    "colab": {
     "base_uri": "https://localhost:8080/",
     "height": 816
    },
    "id": "QANlr66Hx2WB",
    "outputId": "392ad825-495e-48d2-aea8-a28f4ab7a846"
   },
   "outputs": [
    {
     "data": {
      "text/html": [
       "<div>\n",
       "<style scoped>\n",
       "    .dataframe tbody tr th:only-of-type {\n",
       "        vertical-align: middle;\n",
       "    }\n",
       "\n",
       "    .dataframe tbody tr th {\n",
       "        vertical-align: top;\n",
       "    }\n",
       "\n",
       "    .dataframe thead th {\n",
       "        text-align: right;\n",
       "    }\n",
       "</style>\n",
       "<table border=\"1\" class=\"dataframe\">\n",
       "  <thead>\n",
       "    <tr style=\"text-align: right;\">\n",
       "      <th></th>\n",
       "      <th>tweet</th>\n",
       "      <th>target_entity</th>\n",
       "      <th>emotion</th>\n",
       "      <th>cleaned_tweet</th>\n",
       "      <th>lemmatized_tweet</th>\n",
       "    </tr>\n",
       "  </thead>\n",
       "  <tbody>\n",
       "    <tr>\n",
       "      <th>0</th>\n",
       "      <td>.@wesley83 I have a 3G iPhone. After 3 hrs twe...</td>\n",
       "      <td>iPhone</td>\n",
       "      <td>Negative emotion</td>\n",
       "      <td>wesley83 i have a 3g iphone after 3 hrs tweeti...</td>\n",
       "      <td>wesley83 i have a 3g iphone after 3 hr tweetin...</td>\n",
       "    </tr>\n",
       "    <tr>\n",
       "      <th>1</th>\n",
       "      <td>@jessedee Know about @fludapp ? Awesome iPad/i...</td>\n",
       "      <td>iPad or iPhone App</td>\n",
       "      <td>Positive emotion</td>\n",
       "      <td>jessedee know about fludapp  awesome ipadiphon...</td>\n",
       "      <td>jessedee know about fludapp awesome ipadiphone...</td>\n",
       "    </tr>\n",
       "    <tr>\n",
       "      <th>2</th>\n",
       "      <td>@swonderlin Can not wait for #iPad 2 also. The...</td>\n",
       "      <td>iPad</td>\n",
       "      <td>Positive emotion</td>\n",
       "      <td>swonderlin can not wait for ipad 2 also they s...</td>\n",
       "      <td>swonderlin can not wait for ipad 2 also they s...</td>\n",
       "    </tr>\n",
       "    <tr>\n",
       "      <th>3</th>\n",
       "      <td>@sxsw I hope this year's festival isn't as cra...</td>\n",
       "      <td>iPad or iPhone App</td>\n",
       "      <td>Negative emotion</td>\n",
       "      <td>sxsw i hope this years festival isnt as crashy...</td>\n",
       "      <td>sxsw i hope this year festival isnt a crashy a...</td>\n",
       "    </tr>\n",
       "    <tr>\n",
       "      <th>4</th>\n",
       "      <td>@sxtxstate great stuff on Fri #SXSW: Marissa M...</td>\n",
       "      <td>Google</td>\n",
       "      <td>Positive emotion</td>\n",
       "      <td>sxtxstate great stuff on fri sxsw marissa maye...</td>\n",
       "      <td>sxtxstate great stuff on fri sxsw marissa maye...</td>\n",
       "    </tr>\n",
       "    <tr>\n",
       "      <th>5</th>\n",
       "      <td>@teachntech00 New iPad Apps For #SpeechTherapy...</td>\n",
       "      <td>Uncategorized</td>\n",
       "      <td>No emotion toward brand or product</td>\n",
       "      <td>teachntech00 new ipad apps for speechtherapy a...</td>\n",
       "      <td>teachntech00 new ipad apps for speechtherapy a...</td>\n",
       "    </tr>\n",
       "    <tr>\n",
       "      <th>7</th>\n",
       "      <td>#SXSW is just starting, #CTIA is around the co...</td>\n",
       "      <td>Android</td>\n",
       "      <td>Positive emotion</td>\n",
       "      <td>sxsw is just starting ctia is around the corne...</td>\n",
       "      <td>sxsw is just starting ctia is around the corne...</td>\n",
       "    </tr>\n",
       "    <tr>\n",
       "      <th>8</th>\n",
       "      <td>Beautifully smart and simple idea RT @madebyma...</td>\n",
       "      <td>iPad or iPhone App</td>\n",
       "      <td>Positive emotion</td>\n",
       "      <td>beautifully smart and simple idea rt madebyman...</td>\n",
       "      <td>beautifully smart and simple idea rt madebyman...</td>\n",
       "    </tr>\n",
       "    <tr>\n",
       "      <th>9</th>\n",
       "      <td>Counting down the days to #sxsw plus strong Ca...</td>\n",
       "      <td>Apple</td>\n",
       "      <td>Positive emotion</td>\n",
       "      <td>counting down the days to sxsw plus strong can...</td>\n",
       "      <td>counting down the day to sxsw plus strong cana...</td>\n",
       "    </tr>\n",
       "    <tr>\n",
       "      <th>10</th>\n",
       "      <td>Excited to meet the @samsungmobileus at #sxsw ...</td>\n",
       "      <td>Android</td>\n",
       "      <td>Positive emotion</td>\n",
       "      <td>excited to meet the samsungmobileus at sxsw so...</td>\n",
       "      <td>excited to meet the samsungmobileus at sxsw so...</td>\n",
       "    </tr>\n",
       "  </tbody>\n",
       "</table>\n",
       "</div>"
      ],
      "text/plain": [
       "                                                tweet       target_entity  \\\n",
       "0   .@wesley83 I have a 3G iPhone. After 3 hrs twe...              iPhone   \n",
       "1   @jessedee Know about @fludapp ? Awesome iPad/i...  iPad or iPhone App   \n",
       "2   @swonderlin Can not wait for #iPad 2 also. The...                iPad   \n",
       "3   @sxsw I hope this year's festival isn't as cra...  iPad or iPhone App   \n",
       "4   @sxtxstate great stuff on Fri #SXSW: Marissa M...              Google   \n",
       "5   @teachntech00 New iPad Apps For #SpeechTherapy...       Uncategorized   \n",
       "7   #SXSW is just starting, #CTIA is around the co...             Android   \n",
       "8   Beautifully smart and simple idea RT @madebyma...  iPad or iPhone App   \n",
       "9   Counting down the days to #sxsw plus strong Ca...               Apple   \n",
       "10  Excited to meet the @samsungmobileus at #sxsw ...             Android   \n",
       "\n",
       "                               emotion  \\\n",
       "0                     Negative emotion   \n",
       "1                     Positive emotion   \n",
       "2                     Positive emotion   \n",
       "3                     Negative emotion   \n",
       "4                     Positive emotion   \n",
       "5   No emotion toward brand or product   \n",
       "7                     Positive emotion   \n",
       "8                     Positive emotion   \n",
       "9                     Positive emotion   \n",
       "10                    Positive emotion   \n",
       "\n",
       "                                        cleaned_tweet  \\\n",
       "0   wesley83 i have a 3g iphone after 3 hrs tweeti...   \n",
       "1   jessedee know about fludapp  awesome ipadiphon...   \n",
       "2   swonderlin can not wait for ipad 2 also they s...   \n",
       "3   sxsw i hope this years festival isnt as crashy...   \n",
       "4   sxtxstate great stuff on fri sxsw marissa maye...   \n",
       "5   teachntech00 new ipad apps for speechtherapy a...   \n",
       "7   sxsw is just starting ctia is around the corne...   \n",
       "8   beautifully smart and simple idea rt madebyman...   \n",
       "9   counting down the days to sxsw plus strong can...   \n",
       "10  excited to meet the samsungmobileus at sxsw so...   \n",
       "\n",
       "                                     lemmatized_tweet  \n",
       "0   wesley83 i have a 3g iphone after 3 hr tweetin...  \n",
       "1   jessedee know about fludapp awesome ipadiphone...  \n",
       "2   swonderlin can not wait for ipad 2 also they s...  \n",
       "3   sxsw i hope this year festival isnt a crashy a...  \n",
       "4   sxtxstate great stuff on fri sxsw marissa maye...  \n",
       "5   teachntech00 new ipad apps for speechtherapy a...  \n",
       "7   sxsw is just starting ctia is around the corne...  \n",
       "8   beautifully smart and simple idea rt madebyman...  \n",
       "9   counting down the day to sxsw plus strong cana...  \n",
       "10  excited to meet the samsungmobileus at sxsw so...  "
      ]
     },
     "execution_count": 12,
     "metadata": {},
     "output_type": "execute_result"
    }
   ],
   "source": [
    "def preprocess_text_nltk(text):\n",
    "    # Tokenize the text\n",
    "    tokens = word_tokenize(text)\n",
    "\n",
    "    # Remove stop words\n",
    "    r_stop_words = [word for word in tokens if word.lower() not in stop_words]\n",
    "\n",
    "\n",
    "# Initialize the lemmatizer\n",
    "lemmatizer = WordNetLemmatizer()\n",
    "\n",
    "# function to lemmatize text\n",
    "def lemmatize_text(text):\n",
    "    tokens = word_tokenize(text)\n",
    "    lemmatized_tokens = [lemmatizer.lemmatize(token) for token in tokens]\n",
    "    return ' '.join(lemmatized_tokens)\n",
    "\n",
    "# Apply the lemmatize_text function to the 'cleaned_tweet' column\n",
    "df1['lemmatized_tweet'] = df1['cleaned_tweet'].apply(lemmatize_text)\n",
    "df1.head(10)"
   ]
  },
  {
   "cell_type": "markdown",
   "metadata": {
    "id": "h-vn0a27x2WB"
   },
   "source": [
    "Similar to lemmatization,both functions play the same role ."
   ]
  },
  {
   "cell_type": "markdown",
   "metadata": {
    "id": "JqA4W9Rux2WB"
   },
   "source": [
    "The function 'def preprocess_text_nltk(text)' is used to tokenize the text."
   ]
  },
  {
   "cell_type": "code",
   "execution_count": 13,
   "metadata": {
    "id": "eON2IdMWx2WC"
   },
   "outputs": [],
   "source": [
    "# Function to tokenize and remove stopwords and punctuation\n",
    "def process_tweet(tweet):\n",
    "    tweet = tweet.lower() #convert tweet to lowercase\n",
    "   # for\n",
    "    pattern = r\"\\b\\w+(?:'\\w+)?\\b\"\n",
    "    # Create a RegexpTokenizer with the defined pattern\n",
    "    tokenizer = RegexpTokenizer(pattern)\n",
    "    # Tokenize tweet\n",
    "    tokens = tokenizer.tokenize(tweet)\n",
    "    tokens = [token for token in tokens if token not in stopwords.words('english')\n",
    "              and token not in punctuation]\n",
    "    return tokens\n"
   ]
  },
  {
   "cell_type": "markdown",
   "metadata": {
    "id": "BEaWM3Kvx2WC"
   },
   "source": [
    "Pattern r\"\\b\\w+(?:'\\w+)?\\b\"  used for tokenizing text while keeping words with apostrophes. Below is an example."
   ]
  },
  {
   "cell_type": "code",
   "execution_count": 14,
   "metadata": {
    "colab": {
     "base_uri": "https://localhost:8080/"
    },
    "id": "h7_tEJPgx2WC",
    "outputId": "35834eaf-3e64-4269-cc2e-f9b12050f7f0"
   },
   "outputs": [
    {
     "name": "stdout",
     "output_type": "stream",
     "text": [
      "[\"I'm\", 'excited', 'about', 'the', \"iPhone's\", 'new', 'features', \"Isn't\", 'it', 'amazing']\n"
     ]
    }
   ],
   "source": [
    "import re\n",
    "from nltk.tokenize import RegexpTokenizer\n",
    "\n",
    "# Define the pattern\n",
    "pattern = r\"\\b\\w+(?:'\\w+)?\\b\"\n",
    "\n",
    "# Create a RegexpTokenizer with the pattern\n",
    "tokenizer = RegexpTokenizer(pattern)\n",
    "\n",
    "# Example tweet\n",
    "tweet = \"I'm excited about the iPhone's new features! Isn't it amazing?\"\n",
    "\n",
    "# Tokenize the tweet\n",
    "tokens = tokenizer.tokenize(tweet)\n",
    "\n",
    "# Print the tokens\n",
    "print(tokens)\n"
   ]
  },
  {
   "cell_type": "markdown",
   "metadata": {
    "id": "QRiwlVmvx2WC"
   },
   "source": [
    "This output shows that the tokenizer breaks down the tweet into components,and handling even  shortened words and ownership accurately."
   ]
  },
  {
   "cell_type": "code",
   "execution_count": 15,
   "metadata": {
    "colab": {
     "base_uri": "https://localhost:8080/",
     "height": 1000
    },
    "id": "jTa7uq5Ex2WC",
    "outputId": "60e5bee2-dc3d-469c-f841-1a1d5f47be34"
   },
   "outputs": [
    {
     "data": {
      "text/html": [
       "<div>\n",
       "<style scoped>\n",
       "    .dataframe tbody tr th:only-of-type {\n",
       "        vertical-align: middle;\n",
       "    }\n",
       "\n",
       "    .dataframe tbody tr th {\n",
       "        vertical-align: top;\n",
       "    }\n",
       "\n",
       "    .dataframe thead th {\n",
       "        text-align: right;\n",
       "    }\n",
       "</style>\n",
       "<table border=\"1\" class=\"dataframe\">\n",
       "  <thead>\n",
       "    <tr style=\"text-align: right;\">\n",
       "      <th></th>\n",
       "      <th>tweet</th>\n",
       "      <th>target_entity</th>\n",
       "      <th>emotion</th>\n",
       "      <th>cleaned_tweet</th>\n",
       "      <th>lemmatized_tweet</th>\n",
       "    </tr>\n",
       "  </thead>\n",
       "  <tbody>\n",
       "    <tr>\n",
       "      <th>8942</th>\n",
       "      <td>#SXSW ##UXDes Check out Designing iPad Interfa...</td>\n",
       "      <td>Uncategorized</td>\n",
       "      <td>No emotion toward brand or product</td>\n",
       "      <td>sxsw uxdes check out designing ipad interfaces...</td>\n",
       "      <td>sxsw uxdes check out designing ipad interface ...</td>\n",
       "    </tr>\n",
       "    <tr>\n",
       "      <th>1571</th>\n",
       "      <td>Love it. @mention at #sxsw: &amp;quot;apple comes ...</td>\n",
       "      <td>Apple</td>\n",
       "      <td>Positive emotion</td>\n",
       "      <td>love it mention at sxsw quotapple comes up wit...</td>\n",
       "      <td>love it mention at sxsw quotapple come up with...</td>\n",
       "    </tr>\n",
       "    <tr>\n",
       "      <th>3804</th>\n",
       "      <td>Domo for iOS and Android just got released! @m...</td>\n",
       "      <td>Android App</td>\n",
       "      <td>Positive emotion</td>\n",
       "      <td>domo for ios and android just got released men...</td>\n",
       "      <td>domo for io and android just got released ment...</td>\n",
       "    </tr>\n",
       "    <tr>\n",
       "      <th>8080</th>\n",
       "      <td>{link} - SSxSW Showcasing Artists Torrent. 130...</td>\n",
       "      <td>Uncategorized</td>\n",
       "      <td>No emotion toward brand or product</td>\n",
       "      <td>link  ssxsw showcasing artists torrent 1300 so...</td>\n",
       "      <td>link ssxsw showcasing artist torrent 1300 song...</td>\n",
       "    </tr>\n",
       "    <tr>\n",
       "      <th>4408</th>\n",
       "      <td>Kid at San Antonio Apple Store just told me th...</td>\n",
       "      <td>Uncategorized</td>\n",
       "      <td>No emotion toward brand or product</td>\n",
       "      <td>kid at san antonio apple store just told me th...</td>\n",
       "      <td>kid at san antonio apple store just told me th...</td>\n",
       "    </tr>\n",
       "    <tr>\n",
       "      <th>2442</th>\n",
       "      <td>Google and Bing page rank panel is ridiculousl...</td>\n",
       "      <td>Google</td>\n",
       "      <td>Negative emotion</td>\n",
       "      <td>google and bing page rank panel is ridiculousl...</td>\n",
       "      <td>google and bing page rank panel is ridiculousl...</td>\n",
       "    </tr>\n",
       "    <tr>\n",
       "      <th>7325</th>\n",
       "      <td>My #AT&amp;amp;T iPhone user friends keep borrowin...</td>\n",
       "      <td>iPhone</td>\n",
       "      <td>Positive emotion</td>\n",
       "      <td>my atampt iphone user friends keep borrowing m...</td>\n",
       "      <td>my atampt iphone user friend keep borrowing my...</td>\n",
       "    </tr>\n",
       "    <tr>\n",
       "      <th>4645</th>\n",
       "      <td>@mention Nice meeting you last night! Confessi...</td>\n",
       "      <td>iPad or iPhone App</td>\n",
       "      <td>Positive emotion</td>\n",
       "      <td>mention nice meeting you last night confession...</td>\n",
       "      <td>mention nice meeting you last night confession...</td>\n",
       "    </tr>\n",
       "    <tr>\n",
       "      <th>6953</th>\n",
       "      <td>RT @mention Win iPad here: RT @mention What #D...</td>\n",
       "      <td>Uncategorized</td>\n",
       "      <td>No emotion toward brand or product</td>\n",
       "      <td>rt mention win ipad here rt mention what dgtlt...</td>\n",
       "      <td>rt mention win ipad here rt mention what dgtlt...</td>\n",
       "    </tr>\n",
       "    <tr>\n",
       "      <th>8492</th>\n",
       "      <td>who's sitting in the lobby of her hotel after ...</td>\n",
       "      <td>iPad</td>\n",
       "      <td>Positive emotion</td>\n",
       "      <td>whos sitting in the lobby of her hotel after 2...</td>\n",
       "      <td>who sitting in the lobby of her hotel after 2a...</td>\n",
       "    </tr>\n",
       "  </tbody>\n",
       "</table>\n",
       "</div>"
      ],
      "text/plain": [
       "                                                  tweet       target_entity  \\\n",
       "8942  #SXSW ##UXDes Check out Designing iPad Interfa...       Uncategorized   \n",
       "1571  Love it. @mention at #sxsw: &quot;apple comes ...               Apple   \n",
       "3804  Domo for iOS and Android just got released! @m...         Android App   \n",
       "8080  {link} - SSxSW Showcasing Artists Torrent. 130...       Uncategorized   \n",
       "4408  Kid at San Antonio Apple Store just told me th...       Uncategorized   \n",
       "2442  Google and Bing page rank panel is ridiculousl...              Google   \n",
       "7325  My #AT&amp;T iPhone user friends keep borrowin...              iPhone   \n",
       "4645  @mention Nice meeting you last night! Confessi...  iPad or iPhone App   \n",
       "6953  RT @mention Win iPad here: RT @mention What #D...       Uncategorized   \n",
       "8492  who's sitting in the lobby of her hotel after ...                iPad   \n",
       "\n",
       "                                 emotion  \\\n",
       "8942  No emotion toward brand or product   \n",
       "1571                    Positive emotion   \n",
       "3804                    Positive emotion   \n",
       "8080  No emotion toward brand or product   \n",
       "4408  No emotion toward brand or product   \n",
       "2442                    Negative emotion   \n",
       "7325                    Positive emotion   \n",
       "4645                    Positive emotion   \n",
       "6953  No emotion toward brand or product   \n",
       "8492                    Positive emotion   \n",
       "\n",
       "                                          cleaned_tweet  \\\n",
       "8942  sxsw uxdes check out designing ipad interfaces...   \n",
       "1571  love it mention at sxsw quotapple comes up wit...   \n",
       "3804  domo for ios and android just got released men...   \n",
       "8080  link  ssxsw showcasing artists torrent 1300 so...   \n",
       "4408  kid at san antonio apple store just told me th...   \n",
       "2442  google and bing page rank panel is ridiculousl...   \n",
       "7325  my atampt iphone user friends keep borrowing m...   \n",
       "4645  mention nice meeting you last night confession...   \n",
       "6953  rt mention win ipad here rt mention what dgtlt...   \n",
       "8492  whos sitting in the lobby of her hotel after 2...   \n",
       "\n",
       "                                       lemmatized_tweet  \n",
       "8942  sxsw uxdes check out designing ipad interface ...  \n",
       "1571  love it mention at sxsw quotapple come up with...  \n",
       "3804  domo for io and android just got released ment...  \n",
       "8080  link ssxsw showcasing artist torrent 1300 song...  \n",
       "4408  kid at san antonio apple store just told me th...  \n",
       "2442  google and bing page rank panel is ridiculousl...  \n",
       "7325  my atampt iphone user friend keep borrowing my...  \n",
       "4645  mention nice meeting you last night confession...  \n",
       "6953  rt mention win ipad here rt mention what dgtlt...  \n",
       "8492  who sitting in the lobby of her hotel after 2a...  "
      ]
     },
     "execution_count": 15,
     "metadata": {},
     "output_type": "execute_result"
    }
   ],
   "source": [
    "df1.sample(10)"
   ]
  },
  {
   "cell_type": "markdown",
   "metadata": {
    "id": "9uTdHU7Ox2WD"
   },
   "source": [
    "Compared to other outputs this one right here differs from the rest becuase here we used sample and the samples of the rows we printed might containtweets with varying characteristicss."
   ]
  },
  {
   "cell_type": "code",
   "execution_count": 16,
   "metadata": {
    "id": "cji01i0Ex2WK"
   },
   "outputs": [],
   "source": [
    "df1['target_entity'].fillna('Uncategorized', inplace=True)\n"
   ]
  },
  {
   "cell_type": "markdown",
   "metadata": {
    "id": "DdkIOM8qyCdN"
   },
   "source": [
    "## 4.0 EXPLORATORY DATA ANALYSIS\n",
    "\n",
    "This involves understanding the characteristics of the text data, identifying patterns, and uncovering potential challenges. By performing EDA, we gain valuable insights into the dataset, inform feature engineering decisions, and build more effective NLP models. This exploratory phase helps to prevent potential pitfalls and ensures that subsequent modeling efforts are grounded in a solid understanding of the data."
   ]
  },
  {
   "cell_type": "markdown",
   "metadata": {
    "id": "YLnGhRrswTd2"
   },
   "source": [
    "We can begin with finding the number of words in the document. In our case, it would be the \"Tweet\" column. To do this, we can write a function to find out, then find the description of the word count, such as mean, mode. and such"
   ]
  },
  {
   "cell_type": "code",
   "execution_count": 17,
   "metadata": {
    "id": "EqPwKs3Gx2WL"
   },
   "outputs": [],
   "source": [
    "def count_words(text):\n",
    "  \"\"\"Counts the number of words in a given text.\"\"\"\n",
    "  words = text.split()\n",
    "  return len(words)"
   ]
  },
  {
   "cell_type": "code",
   "execution_count": 18,
   "metadata": {
    "colab": {
     "base_uri": "https://localhost:8080/"
    },
    "id": "5mNVgttM3PGj",
    "outputId": "8aa56fdc-46d5-4956-db05-07a15e52237c"
   },
   "outputs": [
    {
     "data": {
      "text/plain": [
       "count    9070.000000\n",
       "mean       17.765932\n",
       "std         4.962136\n",
       "min         2.000000\n",
       "25%        14.000000\n",
       "50%        18.000000\n",
       "75%        21.000000\n",
       "max        33.000000\n",
       "Name: word_count, dtype: float64"
      ]
     },
     "execution_count": 18,
     "metadata": {},
     "output_type": "execute_result"
    }
   ],
   "source": [
    "df1['word_count'] = df1['tweet'].apply(count_words)\n",
    "df1['word_count'].describe()\n"
   ]
  },
  {
   "cell_type": "markdown",
   "metadata": {
    "id": "o9_Gi1D5wrUR"
   },
   "source": [
    "As seen, we have a count of 9070, and with the percentile ranges between 13 and 33. We also get to see the mean and other statistics using the describe() method. We can easily visualize it with a histogram that focuses on grouped distrubution to avoid visual clatter\n",
    "\n",
    "---\n",
    "\n"
   ]
  },
  {
   "cell_type": "code",
   "execution_count": 19,
   "metadata": {
    "colab": {
     "base_uri": "https://localhost:8080/",
     "height": 472
    },
    "id": "POrlY1NB39b1",
    "outputId": "c4d94ec0-7e66-4390-c988-cc8008bb6f47"
   },
   "outputs": [
    {
     "data": {
      "image/png": "[encoded data removed]",
      "text/plain": [
       "<Figure size 432x288 with 1 Axes>"
      ]
     },
     "metadata": {
      "needs_background": "light"
     },
     "output_type": "display_data"
    }
   ],
   "source": [
    "# Histogram\n",
    "plt.hist(df1['word_count'], bins=10, edgecolor='black')\n",
    "\n",
    "# Calculate bin edges\n",
    "counts, bins, patches = plt.hist(df1['word_count'], bins=10)\n",
    "\n",
    "# Create bin labels\n",
    "bin_labels = [f'{int(bins[i])}-{int(bins[i+1])}' for i in range(len(bins)-1)]\n",
    "\n",
    "# Set x-axis labels\n",
    "plt.xticks(bins[:-1], bin_labels)\n",
    "\n",
    "plt.xlabel('Word Count')\n",
    "plt.ylabel('Frequency')\n",
    "plt.title('Distribution of Word Counts')\n",
    "plt.show()"
   ]
  },
  {
   "cell_type": "markdown",
   "metadata": {
    "id": "UQAG_UvoyXvq"
   },
   "source": [
    "Visually, our data tells us that most of the words in the document lie between 20-23 words. But we need to find out the statistics of usage of each of the words in the document. For this, we can count each word in the \"Tweet\" column. This s easily accomplished by tokenizing the words in the \"Tweet\" column, and going through all the words in the column, the calculating word frequencies and visually displaying it"
   ]
  },
  {
   "cell_type": "code",
   "execution_count": 20,
   "metadata": {
    "colab": {
     "base_uri": "https://localhost:8080/",
     "height": 300
    },
    "id": "ofj4TJRJ9h7p",
    "outputId": "a69da997-9537-4744-adf0-82cf32144cf2"
   },
   "outputs": [
    {
     "data": {
      "text/html": [
       "<div>\n",
       "<style scoped>\n",
       "    .dataframe tbody tr th:only-of-type {\n",
       "        vertical-align: middle;\n",
       "    }\n",
       "\n",
       "    .dataframe tbody tr th {\n",
       "        vertical-align: top;\n",
       "    }\n",
       "\n",
       "    .dataframe thead th {\n",
       "        text-align: right;\n",
       "    }\n",
       "</style>\n",
       "<table border=\"1\" class=\"dataframe\">\n",
       "  <thead>\n",
       "    <tr style=\"text-align: right;\">\n",
       "      <th></th>\n",
       "      <th>count</th>\n",
       "    </tr>\n",
       "  </thead>\n",
       "  <tbody>\n",
       "    <tr>\n",
       "      <th>count</th>\n",
       "      <td>9831.000000</td>\n",
       "    </tr>\n",
       "    <tr>\n",
       "      <th>mean</th>\n",
       "      <td>11.760859</td>\n",
       "    </tr>\n",
       "    <tr>\n",
       "      <th>std</th>\n",
       "      <td>144.766248</td>\n",
       "    </tr>\n",
       "    <tr>\n",
       "      <th>min</th>\n",
       "      <td>1.000000</td>\n",
       "    </tr>\n",
       "    <tr>\n",
       "      <th>25%</th>\n",
       "      <td>1.000000</td>\n",
       "    </tr>\n",
       "    <tr>\n",
       "      <th>50%</th>\n",
       "      <td>2.000000</td>\n",
       "    </tr>\n",
       "    <tr>\n",
       "      <th>75%</th>\n",
       "      <td>4.000000</td>\n",
       "    </tr>\n",
       "    <tr>\n",
       "      <th>max</th>\n",
       "      <td>9593.000000</td>\n",
       "    </tr>\n",
       "  </tbody>\n",
       "</table>\n",
       "</div>"
      ],
      "text/plain": [
       "             count\n",
       "count  9831.000000\n",
       "mean     11.760859\n",
       "std     144.766248\n",
       "min       1.000000\n",
       "25%       1.000000\n",
       "50%       2.000000\n",
       "75%       4.000000\n",
       "max    9593.000000"
      ]
     },
     "execution_count": 20,
     "metadata": {},
     "output_type": "execute_result"
    }
   ],
   "source": [
    "from collections import Counter\n",
    "\n",
    "df1['tokenized_tweets'] = df1['tweet'].apply(process_tweet)\n",
    "\n",
    "all_words = [word for sublist in df1['tokenized_tweets'] for word in sublist]\n",
    "\n",
    "# Calculate word frequencies\n",
    "word_counts = Counter(all_words)\n",
    "\n",
    "# Convert word counts to a DataFrame\n",
    "word_freq_df = pd.DataFrame(word_counts.items(), columns=['word', 'count'])\n",
    "\n",
    "# Sort by frequency\n",
    "word_freq_df = word_freq_df.sort_values(by='count', ascending=False)\n",
    "\n",
    "word_freq_df.describe()"
   ]
  },
  {
   "cell_type": "code",
   "execution_count": 21,
   "metadata": {
    "colab": {
     "base_uri": "https://localhost:8080/",
     "height": 533
    },
    "id": "0xxovBpbzm6-",
    "outputId": "1db1606e-64fe-4a46-bb59-1ba6f49478c7"
   },
   "outputs": [
    {
     "data": {
      "text/plain": [
       "<Figure size 864x432 with 0 Axes>"
      ]
     },
     "metadata": {},
     "output_type": "display_data"
    },
    {
     "data": {
      "image/png": "[encoded data removed]",
      "text/plain": [
       "<Figure size 432x288 with 1 Axes>"
      ]
     },
     "metadata": {
      "needs_background": "light"
     },
     "output_type": "display_data"
    }
   ],
   "source": [
    "\n",
    "# Visualize the top 20 words\n",
    "plt.figure(figsize=(12, 6))\n",
    "ax = word_freq_df[:50].plot(x='word', y='count', kind='bar')\n",
    "\n",
    "for p in ax.patches:\n",
    "    ax.annotate(str(p.get_height()),\n",
    "                (p.get_x() + p.get_width() / 2., p.get_height()),\n",
    "                ha='center', va='center',\n",
    "                xytext=(0, 5), textcoords='offset points',\n",
    "                fontsize=6,  # Adjust font size here\n",
    "                rotation=90)  # Adjust rotation here\n",
    "\n",
    "#word_freq_df[:40].plot(x='word', y='count', kind='bar')\n",
    "plt.title('Frequency Distribution of Top 50 Words')\n",
    "plt.xlabel('Word')\n",
    "plt.ylabel('Frequency')\n",
    "plt.xticks(\n",
    "    rotation = 90,\n",
    "    fontsize = 8)\n",
    "plt.show()"
   ]
  },
  {
   "cell_type": "markdown",
   "metadata": {
    "id": "fI9W4XrJzzKl"
   },
   "source": [
    "As seen, the 1st 5 words pertain to X( formerly known as Twitter)'s abstract functions, or either the event name. We know this due to domain knowledge ot both X and SXSW. With this, in our visualization, we can remove the 1st 5 so that we can begin"
   ]
  },
  {
   "cell_type": "code",
   "execution_count": 22,
   "metadata": {
    "colab": {
     "base_uri": "https://localhost:8080/",
     "height": 533
    },
    "id": "RlpgttVOzrkR",
    "outputId": "91f4b797-b0ba-40bc-84e9-9635c8ffbb72"
   },
   "outputs": [
    {
     "data": {
      "text/plain": [
       "<Figure size 864x432 with 0 Axes>"
      ]
     },
     "metadata": {},
     "output_type": "display_data"
    },
    {
     "data": {
      "image/png": "[encoded data removed]",
      "text/plain": [
       "<Figure size 432x288 with 1 Axes>"
      ]
     },
     "metadata": {
      "needs_background": "light"
     },
     "output_type": "display_data"
    }
   ],
   "source": [
    "\n",
    "# Visualize the top 20 words\n",
    "plt.figure(figsize=(12, 6))\n",
    "ax = word_freq_df[4:50].plot(x='word', y='count', kind='bar')\n",
    "\n",
    "for p in ax.patches:\n",
    "    ax.annotate(str(p.get_height()),\n",
    "                (p.get_x() + p.get_width() / 2., p.get_height()),\n",
    "                ha='center', va='center',\n",
    "                xytext=(0, 5), textcoords='offset points',\n",
    "                fontsize=6,  # Adjust font size here\n",
    "                rotation=90)  # Adjust rotation here\n",
    "\n",
    "#word_freq_df[:40].plot(x='word', y='count', kind='bar')\n",
    "plt.title('Frequency Distribution of Top 50 Words')\n",
    "plt.xlabel('Word')\n",
    "plt.ylabel('Frequency')\n",
    "plt.xticks(\n",
    "    rotation = 90,\n",
    "    fontsize = 8)\n",
    "plt.show()"
   ]
  },
  {
   "cell_type": "markdown",
   "metadata": {
    "id": "MShnug_l0-rS"
   },
   "source": [
    "Much Better. We can now see that the word 'ipad' frequently appears with 2503 appearances. For those who may need a better visualization medium, we can use a wordcloud"
   ]
  },
  {
   "cell_type": "markdown",
   "metadata": {
    "id": "ITwOV-7kRGWU"
   },
   "source": [
    "A word cloud is a visual representation of text data where words are sized proportionally to their frequency of occurrence in a given document or corpus. It provides a rapid overview of the most prominent terms, allowing for quick identification of key topics and themes. Word clouds are particularly effective when dealing with large volumes of text data, as they can condense information into a visually appealing format.\n",
    "\n",
    "We can use the lemmatized_tweet column to generate a wordcloud"
   ]
  },
  {
   "cell_type": "code",
   "execution_count": 23,
   "metadata": {},
   "outputs": [
    {
     "name": "stdout",
     "output_type": "stream",
     "text": [
      "Requirement already satisfied: wordcloud in c:\\users\\user\\anaconda3\\envs\\learn-env\\lib\\site-packages (1.9.3)\n",
      "Requirement already satisfied: pillow in c:\\users\\user\\anaconda3\\envs\\learn-env\\lib\\site-packages (from wordcloud) (10.4.0)\n",
      "Requirement already satisfied: numpy>=1.6.1 in c:\\users\\user\\anaconda3\\envs\\learn-env\\lib\\site-packages (from wordcloud) (1.18.5)\n",
      "Requirement already satisfied: matplotlib in c:\\users\\user\\anaconda3\\envs\\learn-env\\lib\\site-packages (from wordcloud) (3.3.1)\n",
      "Requirement already satisfied: pyparsing!=2.0.4,!=2.1.2,!=2.1.6,>=2.0.3 in c:\\users\\user\\anaconda3\\envs\\learn-env\\lib\\site-packages (from matplotlib->wordcloud) (2.4.7)\n",
      "Requirement already satisfied: kiwisolver>=1.0.1 in c:\\users\\user\\anaconda3\\envs\\learn-env\\lib\\site-packages (from matplotlib->wordcloud) (1.2.0)\n",
      "Requirement already satisfied: cycler>=0.10 in c:\\users\\user\\anaconda3\\envs\\learn-env\\lib\\site-packages (from matplotlib->wordcloud) (0.10.0)\n",
      "Requirement already satisfied: python-dateutil>=2.1 in c:\\users\\user\\anaconda3\\envs\\learn-env\\lib\\site-packages (from matplotlib->wordcloud) (2.8.1)\n",
      "Requirement already satisfied: certifi>=2020.06.20 in c:\\users\\user\\anaconda3\\envs\\learn-env\\lib\\site-packages (from matplotlib->wordcloud) (2024.6.2)\n",
      "Requirement already satisfied: six in c:\\users\\user\\anaconda3\\envs\\learn-env\\lib\\site-packages (from cycler>=0.10->matplotlib->wordcloud) (1.15.0)\n",
      "Note: you may need to restart the kernel to use updated packages.\n"
     ]
    }
   ],
   "source": [
    "pip install wordcloud"
   ]
  },
  {
   "cell_type": "code",
   "execution_count": 24,
   "metadata": {},
   "outputs": [
    {
     "name": "stdout",
     "output_type": "stream",
     "text": [
      "Requirement already up-to-date: Pillow in c:\\users\\user\\anaconda3\\envs\\learn-env\\lib\\site-packages (10.4.0)\n",
      "Note: you may need to restart the kernel to use updated packages.\n"
     ]
    }
   ],
   "source": [
    "pip install --upgrade Pillow"
   ]
  },
  {
   "cell_type": "code",
   "execution_count": 25,
   "metadata": {
    "colab": {
     "base_uri": "https://localhost:8080/",
     "height": 340
    },
    "id": "3FS-XESRiaHB",
    "outputId": "49fe8192-22b4-4da9-bcb3-d86a880ae120"
   },
   "outputs": [
    {
     "data": {
      "image/png": "[encoded data removed]",
      "text/plain": [
       "<Figure size 720x360 with 1 Axes>"
      ]
     },
     "metadata": {
      "needs_background": "light"
     },
     "output_type": "display_data"
    }
   ],
   "source": [
    "from wordcloud import WordCloud\n",
    "\n",
    "text = ' '.join(df1['lemmatized_tweet'].astype(str))\n",
    "# Create a WordCloud object\n",
    "wordcloud = WordCloud(width=800, height=400, background_color='white').generate(text)\n",
    "\n",
    "# Display the generated image\n",
    "plt.figure(figsize=(10, 5))\n",
    "plt.imshow(wordcloud, interpolation='bilinear')\n",
    "plt.axis('off')\n",
    "plt.show()"
   ]
  },
  {
   "cell_type": "markdown",
   "metadata": {
    "id": "kFTE--2e3myn"
   },
   "source": [
    "We can also use a bit of sentiment analysis to determine the positivity, negativity or neutrality of a tweet. We can use a library called TextBlob, as it returns a numerical value, ranging from -1 to 1, where negative 1 indicates negativity, whule 1 indicates positivity. O indicates neutrality"
   ]
  },
  {
   "cell_type": "code",
   "execution_count": 28,
   "metadata": {},
   "outputs": [
    {
     "name": "stdout",
     "output_type": "stream",
     "text": [
      "Collecting textblob\n",
      "  Downloading textblob-0.18.0.post0-py3-none-any.whl (626 kB)\n",
      "Collecting nltk>=3.8\n",
      "  Downloading nltk-3.8.1-py3-none-any.whl (1.5 MB)\n",
      "Requirement already satisfied: tqdm in c:\\users\\user\\anaconda3\\envs\\learn-env\\lib\\site-packages (from nltk>=3.8->textblob) (4.50.2)\n",
      "Collecting regex>=2021.8.3\n",
      "  Downloading regex-2024.7.24-cp38-cp38-win_amd64.whl (269 kB)\n",
      "Requirement already satisfied: click in c:\\users\\user\\anaconda3\\envs\\learn-env\\lib\\site-packages (from nltk>=3.8->textblob) (7.1.2)\n",
      "Requirement already satisfied: joblib in c:\\users\\user\\anaconda3\\envs\\learn-env\\lib\\site-packages (from nltk>=3.8->textblob) (0.17.0)\n",
      "Installing collected packages: regex, nltk, textblob\n",
      "  Attempting uninstall: regex\n",
      "    Found existing installation: regex 2020.10.15\n",
      "    Uninstalling regex-2020.10.15:\n",
      "      Successfully uninstalled regex-2020.10.15\n",
      "  Attempting uninstall: nltk\n",
      "    Found existing installation: nltk 3.5\n",
      "    Uninstalling nltk-3.5:\n",
      "      Successfully uninstalled nltk-3.5\n",
      "Successfully installed nltk-3.8.1 regex-2024.7.24 textblob-0.18.0.post0\n",
      "Note: you may need to restart the kernel to use updated packages.\n"
     ]
    }
   ],
   "source": [
    "pip install textblob"
   ]
  },
  {
   "cell_type": "code",
   "execution_count": 29,
   "metadata": {
    "colab": {
     "base_uri": "https://localhost:8080/",
     "height": 472
    },
    "id": "pufTD26qs42c",
    "outputId": "f48f2169-7cff-438d-beef-562d1829daa4"
   },
   "outputs": [
    {
     "data": {
      "image/png": "[encoded data removed]",
      "text/plain": [
       "<Figure size 432x288 with 1 Axes>"
      ]
     },
     "metadata": {
      "needs_background": "light"
     },
     "output_type": "display_data"
    }
   ],
   "source": [
    "from textblob import TextBlob\n",
    "\n",
    "df1['polarity'] = df1['lemmatized_tweet'].apply(lambda x: TextBlob(x).sentiment.polarity)\n",
    "\n",
    "# Plot sentiment distribution\n",
    "plt.hist(df1['polarity'], bins=10)\n",
    "plt.xlabel('Polarity')\n",
    "plt.ylabel('Frequency')\n",
    "plt.title('Sentiment Distribution')\n",
    "plt.show()"
   ]
  },
  {
   "cell_type": "markdown",
   "metadata": {
    "id": "LZWG3Y664Tdt"
   },
   "source": [
    "As seen, most of the words lie near the zero mark. But we can go even further. We can use tokens and their tags to find out where most of the words lie in the parts of speech. This is known as parts-of-speech tagging(POS tagging)\n",
    "These tags indicate the syntactic role of a word, such as whether it's a noun, verb, adjective, adverb, and so on.\n",
    "\n",
    "How POS Tagging Works\n",
    "* Tokenization: The text is broken down into individual words or tokens.\n",
    "* Tagging: Each token is assigned a POS tag based on its context and the rules of the language.\n",
    "\n",
    "Common POS Tags\n",
    "\n",
    "* Nouns (NN): person, place, thing, idea\n",
    "* Verbs (VB): action words\n",
    "* Adjectives (JJ): describe adjectives\n",
    "* Adverbs (RB): describe averbs\n",
    "* Adjectives, or other adverbs\n",
    "* Prepositions (IN): show relationships between words\n",
    "* Determiners (DT): articles (the, a, an), possessives (my, your)\n",
    "* Conjunctions (CC): and, but, or"
   ]
  },
  {
   "cell_type": "code",
   "execution_count": 30,
   "metadata": {
    "colab": {
     "base_uri": "https://localhost:8080/",
     "height": 575
    },
    "id": "50wiMTNhGLhp",
    "outputId": "744aa817-85ec-4017-d996-f95891d5d16b"
   },
   "outputs": [
    {
     "name": "stderr",
     "output_type": "stream",
     "text": [
      "[nltk_data] Downloading package averaged_perceptron_tagger to\n",
      "[nltk_data]     C:\\Users\\User\\AppData\\Roaming\\nltk_data...\n",
      "[nltk_data]   Package averaged_perceptron_tagger is already up-to-\n",
      "[nltk_data]       date!\n"
     ]
    },
    {
     "data": {
      "image/png": "[encoded data removed]",
      "text/plain": [
       "<Figure size 432x288 with 1 Axes>"
      ]
     },
     "metadata": {
      "needs_background": "light"
     },
     "output_type": "display_data"
    },
    {
     "data": {
      "text/plain": [
       "<AxesSubplot:title={'center':'POS Tag Distribution'}, xlabel='Samples', ylabel='Counts'>"
      ]
     },
     "execution_count": 30,
     "metadata": {},
     "output_type": "execute_result"
    }
   ],
   "source": [
    "from nltk import pos_tag\n",
    "nltk.download('averaged_perceptron_tagger')\n",
    "\n",
    "df1['tokenized_tweets'] = df1['tweet'].apply(process_tweet)\n",
    "\n",
    "df1['tokenized_tweets'] = df1['tokenized_tweets'].apply(' '.join)\n",
    "tagged = pos_tag(tokens)\n",
    "\n",
    "# Extract POS tags\n",
    "pos_tags = [tag[1] for tag in tagged]\n",
    "\n",
    "# Count POS tag frequencies\n",
    "fdist = nltk.FreqDist(pos_tags)\n",
    "\n",
    "# Plot POS tag distribution\n",
    "#plt.figure(figsize=(10, 5))\n",
    "plt.title('POS Tag Distribution')\n",
    "fdist.plot()\n",
    "#plt.title('POS Tag Distribution')\n",
    "#plt.show()"
   ]
  },
  {
   "cell_type": "markdown",
   "metadata": {
    "id": "xPSlk9zPRZCM"
   },
   "source": [
    "  in the target entities column, we focus on what services the tweets refer to. We can use the describe() function to find out on the info of the column"
   ]
  },
  {
   "cell_type": "code",
   "execution_count": 31,
   "metadata": {
    "colab": {
     "base_uri": "https://localhost:8080/"
    },
    "id": "d9eEU8_oLmoH",
    "outputId": "6e09b623-b9f9-4920-ef0f-3967c57351e1"
   },
   "outputs": [
    {
     "data": {
      "text/plain": [
       "count              9070\n",
       "unique               10\n",
       "top       Uncategorized\n",
       "freq               5788\n",
       "Name: target_entity, dtype: object"
      ]
     },
     "execution_count": 31,
     "metadata": {},
     "output_type": "execute_result"
    }
   ],
   "source": [
    "df1['target_entity'].describe()"
   ]
  },
  {
   "cell_type": "code",
   "execution_count": 32,
   "metadata": {
    "colab": {
     "base_uri": "https://localhost:8080/",
     "height": 541
    },
    "id": "qw0RL-MiRdxU",
    "outputId": "57283b86-09ce-4694-bac5-a34186440b56"
   },
   "outputs": [
    {
     "data": {
      "text/plain": [
       "<AxesSubplot:title={'center':'Target Entity Distribution'}, xlabel='target_entity', ylabel='count'>"
      ]
     },
     "execution_count": 32,
     "metadata": {},
     "output_type": "execute_result"
    },
    {
     "data": {
      "image/png": "[encoded data removed]",
      "text/plain": [
       "<Figure size 720x432 with 1 Axes>"
      ]
     },
     "metadata": {
      "needs_background": "light"
     },
     "output_type": "display_data"
    }
   ],
   "source": [
    "plt.figure(figsize=(10, 6))\n",
    "plt.title('Target Entity Distribution')\n",
    "plt.xticks(rotation = 45)\n",
    "plt.xlabel('Target Entity')\n",
    "plt.ylabel('Frequency')\n",
    "sns.countplot(x='target_entity', data=df1)"
   ]
  },
  {
   "cell_type": "markdown",
   "metadata": {
    "id": "FVWEId-W7hcb"
   },
   "source": [
    "With the uncategorized, we remember that that was what we placed on all empty entries in the column. But apart from it, ipad, Apple and Google are the most frequent entered target entries. We then check on the emotion column to see the reception of the target entities based on the tweets"
   ]
  },
  {
   "cell_type": "code",
   "execution_count": 33,
   "metadata": {
    "colab": {
     "base_uri": "https://localhost:8080/"
    },
    "id": "sv14b4XuRpeA",
    "outputId": "fc51362e-2080-4428-851f-25a4b8ae074b"
   },
   "outputs": [
    {
     "data": {
      "text/plain": [
       "No emotion toward brand or product    5375\n",
       "Positive emotion                      2970\n",
       "Negative emotion                       569\n",
       "I can't tell                           156\n",
       "Name: emotion, dtype: int64"
      ]
     },
     "execution_count": 33,
     "metadata": {},
     "output_type": "execute_result"
    }
   ],
   "source": [
    "df1['emotion'].value_counts()"
   ]
  },
  {
   "cell_type": "code",
   "execution_count": 34,
   "metadata": {
    "colab": {
     "base_uri": "https://localhost:8080/",
     "height": 547
    },
    "id": "rgWuZSeTSlS-",
    "outputId": "5e11cf80-4e96-4b2f-85a1-a9388c9e8e59"
   },
   "outputs": [
    {
     "data": {
      "image/png": "[encoded data removed]",
      "text/plain": [
       "<Figure size 720x432 with 1 Axes>"
      ]
     },
     "metadata": {
      "needs_background": "light"
     },
     "output_type": "display_data"
    }
   ],
   "source": [
    "plt.figure(figsize=(10, 6))\n",
    "plt.title('Emotion Distribution')\n",
    "plt.xticks(rotation = 45)\n",
    "plt.xlabel('Target Entity')\n",
    "plt.ylabel('Frequency')\n",
    "sns.countplot(x='emotion', data=df1, palette = 'coolwarm')\n",
    "\n",
    "plt.show()"
   ]
  },
  {
   "cell_type": "markdown",
   "metadata": {
    "id": "4G2m2jDr8E6G"
   },
   "source": [
    "As we can see, most of the feedback is that they have no emotion."
   ]
  },
  {
   "cell_type": "markdown",
   "metadata": {
    "id": "x5jCilkeUBc7"
   },
   "source": [
    "## 4.0 MODELING"
   ]
  },
  {
   "cell_type": "markdown",
   "metadata": {},
   "source": [
    "We will be using different types of models that is Naive Bayes,Logistic Regression, Decision Tree, and Deep Learning models to see how well they can predict the emotions in the tweets. To check how good they are, we will use the metric of accuracy to see how the model works.\n",
    "\n",
    "Accuracy: This shows how often they get things right."
   ]
  },
  {
   "cell_type": "markdown",
   "metadata": {},
   "source": [
    "### 4.1 Vectorization"
   ]
  },
  {
   "cell_type": "markdown",
   "metadata": {},
   "source": [
    "converting text data (which is unstructured) into a numerical format that machine learning models will understand and process. \n",
    "It will involve transforming text into numerical vectors that capture the semantic and syntactic information of the text."
   ]
  },
  {
   "cell_type": "markdown",
   "metadata": {},
   "source": [
    "### Tfidf Vectorization (Term Frequency - Inverse Document Frequency)"
   ]
  },
  {
   "cell_type": "markdown",
   "metadata": {},
   "source": [
    "\n",
    "Term Frequency-Inverse Document Frequency, is a technique that combines two metrics: TF (Term Frequency) and IDF (Inverse Document Frequency). It's particularly useful when working with multiple documents. TF-IDF helps us identify words that are unique and provide more meaningful insights within a document by giving higher importance to rare words and lowering the importance of common words found across all documents.\n",
    "\n",
    "we will divide our dataset into two portions: training and testing. This helps us ensure that our models perform well on new, unseen data. We allocate 20% of the data for testing."
   ]
  },
  {
   "cell_type": "code",
   "execution_count": 36,
   "metadata": {},
   "outputs": [],
   "source": [
    "# import library\n",
    "from sklearn.preprocessing import LabelEncoder\n",
    "from tensorflow.keras.utils import to_categorical\n",
    "from tensorflow.keras.preprocessing.text import Tokenizer\n",
    "from tensorflow.keras.preprocessing.sequence import pad_sequences\n",
    "#texts will be my X\n",
    "#labels will be my y\n",
    "# Extract relevant columns\n",
    "#independent variabe\n",
    "X = df1['lemmatized_tweet']\n",
    "#target variable\n",
    "y = df1['emotion']\n",
    "\n",
    "# Encode labels\n",
    "#label_encoder = LabelEncoder()\n",
    "#labels_encoded = label_encoder.fit_transform(labels)\n",
    "#labels_encoded = to_categorical(labels_encoded)\n",
    "\n",
    "# Split the dataset\n",
    "X_train, X_test, y_train, y_test = train_test_split(X,y, test_size=0.2, random_state=42)"
   ]
  },
  {
   "cell_type": "markdown",
   "metadata": {},
   "source": [
    "Next, we convert the text data into numbers using TF-IDF. We train the vectorizer on the training data and then apply it to both the training and testing data."
   ]
  },
  {
   "cell_type": "code",
   "execution_count": 37,
   "metadata": {},
   "outputs": [],
   "source": [
    "# Instantiate vectorizer object\n",
    "tfidf = TfidfVectorizer()\n",
    "# Fit the vectorizer\n",
    "X_train_tf = tfidf.fit_transform(X_train)\n",
    "X_test_tf = tfidf.transform(X_test)"
   ]
  },
  {
   "cell_type": "markdown",
   "metadata": {},
   "source": [
    "### Baseline model\n",
    "#### 1. Naive Bayes\n",
    "We chose the model because it is  simple and efficient to use."
   ]
  },
  {
   "cell_type": "code",
   "execution_count": 38,
   "metadata": {},
   "outputs": [],
   "source": [
    "# Instantiate a MultinomialNB classifier with default params\n",
    "baseline_nb = MultinomialNB()\n",
    "\n",
    "# Fit the model\n",
    "baseline_nb.fit(X_train_tf, y_train)\n",
    "\n",
    "# Predict on the training set\n",
    "y_train_pred = baseline_nb.predict(X_train_tf)\n",
    "\n",
    "# Predict on the test set\n",
    "y_test_pred = baseline_nb.predict(X_test_tf)"
   ]
  },
  {
   "cell_type": "code",
   "execution_count": 39,
   "metadata": {},
   "outputs": [
    {
     "name": "stdout",
     "output_type": "stream",
     "text": [
      "Train Accuracy score: 0.7235391400220507\n",
      "Test Accuracy score:  0.6659316427783903\n",
      "Train F1 score:  0.6714203351490386\n",
      "Test F1 score:  0.5947873281200688\n"
     ]
    }
   ],
   "source": [
    "from sklearn.metrics import f1_score, accuracy_score\n",
    "from sklearn import metrics\n",
    "#calcuate the metrics\n",
    "f1_train = metrics.f1_score(y_train, y_train_pred, average='weighted')\n",
    "f1_test = metrics.f1_score(y_test, y_test_pred, average='weighted')\n",
    "print('Train Accuracy score:', metrics.accuracy_score(y_train, y_train_pred))\n",
    "print('Test Accuracy score: ', metrics.accuracy_score(y_test,  y_test_pred))\n",
    "print('Train F1 score: ', f1_train)\n",
    "print('Test F1 score: ', f1_test)"
   ]
  },
  {
   "cell_type": "code",
   "execution_count": 40,
   "metadata": {},
   "outputs": [
    {
     "name": "stdout",
     "output_type": "stream",
     "text": [
      "[[   0    0   28    5]\n",
      " [   0    2  101   16]\n",
      " [   0    0 1064   42]\n",
      " [   0    0  414  142]]\n",
      "                                    precision    recall  f1-score   support\n",
      "\n",
      "                      I can't tell       0.00      0.00      0.00        33\n",
      "                  Negative emotion       1.00      0.02      0.03       119\n",
      "No emotion toward brand or product       0.66      0.96      0.78      1106\n",
      "                  Positive emotion       0.69      0.26      0.37       556\n",
      "\n",
      "                          accuracy                           0.67      1814\n",
      "                         macro avg       0.59      0.31      0.30      1814\n",
      "                      weighted avg       0.68      0.67      0.59      1814\n",
      "\n",
      "Accuracy score:  0.6659316427783903\n"
     ]
    }
   ],
   "source": [
    "y_test_pred = baseline_nb.predict(X_test_tf)\n",
    "from sklearn.metrics import recall_score\n",
    "# confusion matrix and classification report\n",
    "print(confusion_matrix(y_test, y_test_pred))\n",
    "print(classification_report(y_test, y_test_pred))\n",
    "print('Accuracy score: ',accuracy_score(y_test, y_test_pred))"
   ]
  },
  {
   "cell_type": "code",
   "execution_count": 41,
   "metadata": {},
   "outputs": [],
   "source": [
    "def plot_confusion_matrix(y_test, y_pred, classes):\n",
    "    \"\"\"\n",
    "    Plots a confusion matrix.\n",
    "    \"\"\"\n",
    "    cm = confusion_matrix(y_test, y_pred)\n",
    "    plt.figure()\n",
    "    sns.heatmap(cm, annot=True, fmt='d', cmap='RdGy', xticklabels=classes, yticklabels=classes)\n",
    "    plt.xlabel('Predicted label')\n",
    "    plt.ylabel('True label')\n",
    "    plt.show()"
   ]
  },
  {
   "cell_type": "code",
   "execution_count": 42,
   "metadata": {},
   "outputs": [
    {
     "data": {
      "image/png": "[encoded data removed]",
      "text/plain": [
       "<Figure size 432x288 with 2 Axes>"
      ]
     },
     "metadata": {
      "needs_background": "light"
     },
     "output_type": "display_data"
    }
   ],
   "source": [
    "from sklearn.metrics import ConfusionMatrixDisplay\n",
    "\n",
    "y_test_pred = baseline_nb.predict(X_test_tf)\n",
    "\n",
    "#Compute the confusion matrix\n",
    "cm = confusion_matrix(y_test, y_test_pred)\n",
    "\n",
    "#Create a ConfusionMatrixDisplay object\n",
    "disp = ConfusionMatrixDisplay(confusion_matrix=cm)\n",
    "\n",
    "#plot confusion matrix\n",
    "disp.plot()\n",
    "plt.grid(False)\n",
    "plt.show()"
   ]
  },
  {
   "cell_type": "markdown",
   "metadata": {},
   "source": [
    "#### Observations"
   ]
  },
  {
   "cell_type": "markdown",
   "metadata": {},
   "source": [
    "The classes:\n",
    "\n",
    "0 - I can't tell\n",
    "\n",
    "1 - Negative emotion \n",
    "\n",
    "2 - No emotion\n",
    "\n",
    "3 - positive emotion\n",
    "\n",
    "* Class \"Negative\":\n",
    "  \n",
    "Precision: 1.00 - The model correctly identifies negative tweets 100% of the time among all predicted negative tweets.\n",
    "\n",
    "Recall: 0.02 - The model captures only 20% of actual negative tweets among all actual negative tweets.\n",
    "\n",
    "* Class \"No emotion\":\n",
    "  \n",
    "Precision: 0.66 - The model correctly identifies no emotion tweets 66% of the time among all predicted no emotion tweets.\n",
    "\n",
    "Recall: 0.96 - The model captures 96% of actual no emotion towards brand tweets among all no emotion tweets.\n",
    "\n",
    "* Class \"positive\":\n",
    "  \n",
    "Precision: 0.69 - The model correctly identifies positive tweets 69% of the time among all predicted positive tweets.\n",
    "\n",
    "Recall: 0.26 - The model captures 26% of actual positive tweets among all actual positive tweets.\n",
    "\n",
    "* Accuracy:\n",
    "\n",
    "Overall accuracy: 0.67 - The model's predictions are correct for 67% of all tweets.\n",
    "\n",
    "Analysis:\n",
    "\n",
    "The model performs reasonably well for the \"No Emotion\" class, with a high recall score . This indicates that the model is effective at\n",
    "\n",
    "identifying tweets with no discernible sentiment. However, the model struggles with the \"Positive\" and \"Negative\" classes, as indicated by\n",
    "\n",
    "low recall. This suggests that the model has difficulty distinguishing between these sentiment classes.\n",
    "\n",
    "Also the overall model accuracy is quite low. We go ahead to look at other different models"
   ]
  },
  {
   "cell_type": "markdown",
   "metadata": {},
   "source": [
    "#### 2.Logistic Regression"
   ]
  },
  {
   "cell_type": "code",
   "execution_count": 43,
   "metadata": {},
   "outputs": [],
   "source": [
    "#import library\n",
    "from sklearn.linear_model import LogisticRegression\n",
    "# Create an instance of the LogisticRegression model\n",
    "log_reg = LogisticRegression()\n",
    "# Fit the model\n",
    "log_reg.fit(X_train_tf, y_train)\n",
    "\n",
    "# Predict on the training set\n",
    "y_train_pred = log_reg.predict(X_train_tf)\n",
    "\n",
    "# Predict on the test set\n",
    "y_test_pred = log_reg.predict(X_test_tf)"
   ]
  },
  {
   "cell_type": "code",
   "execution_count": 44,
   "metadata": {},
   "outputs": [
    {
     "name": "stdout",
     "output_type": "stream",
     "text": [
      "Train Accuracy score: 0.8022326350606395\n",
      "Test Accuracy score:  0.6824696802646086\n",
      "Train F1 score:  0.7794056678582946\n",
      "Test F1 score:  0.653707556185591\n"
     ]
    }
   ],
   "source": [
    "#calcuate the metrics\n",
    "f1_train = metrics.f1_score(y_train, y_train_pred, average='weighted')\n",
    "f1_test = metrics.f1_score(y_test, y_test_pred, average='weighted')\n",
    "print('Train Accuracy score:', metrics.accuracy_score(y_train, y_train_pred))\n",
    "print('Test Accuracy score: ', metrics.accuracy_score(y_test,  y_test_pred))\n",
    "print('Train F1 score: ', f1_train)\n",
    "print('Test F1 score: ', f1_test)"
   ]
  },
  {
   "cell_type": "code",
   "execution_count": 45,
   "metadata": {},
   "outputs": [
    {
     "name": "stdout",
     "output_type": "stream",
     "text": [
      "[[  0   0  24   9]\n",
      " [  0  13  74  32]\n",
      " [  0   6 948 152]\n",
      " [  0   3 276 277]]\n",
      "                                    precision    recall  f1-score   support\n",
      "\n",
      "                      I can't tell       0.00      0.00      0.00        33\n",
      "                  Negative emotion       0.59      0.11      0.18       119\n",
      "No emotion toward brand or product       0.72      0.86      0.78      1106\n",
      "                  Positive emotion       0.59      0.50      0.54       556\n",
      "\n",
      "                          accuracy                           0.68      1814\n",
      "                         macro avg       0.47      0.37      0.38      1814\n",
      "                      weighted avg       0.66      0.68      0.65      1814\n",
      "\n",
      "Accuracy score:  0.6824696802646086\n"
     ]
    }
   ],
   "source": [
    "y_test_pred = log_reg.predict(X_test_tf)\n",
    "from sklearn.metrics import recall_score\n",
    "# confusion matrix and classification report\n",
    "print(confusion_matrix(y_test, y_test_pred))\n",
    "print(classification_report(y_test, y_test_pred))\n",
    "print('Accuracy score: ',accuracy_score(y_test, y_test_pred))"
   ]
  },
  {
   "cell_type": "code",
   "execution_count": 46,
   "metadata": {},
   "outputs": [
    {
     "data": {
      "image/png": "[encoded data removed]",
      "text/plain": [
       "<Figure size 432x288 with 2 Axes>"
      ]
     },
     "metadata": {
      "needs_background": "light"
     },
     "output_type": "display_data"
    }
   ],
   "source": [
    "#Compute the confusion matrix\n",
    "cm = confusion_matrix(y_test, y_test_pred)\n",
    "\n",
    "#Create a ConfusionMatrixDisplay object\n",
    "disp = ConfusionMatrixDisplay(confusion_matrix=cm)\n",
    "\n",
    "#plot confusion matrix\n",
    "disp.plot()\n",
    "plt.grid(False)\n",
    "plt.show()"
   ]
  },
  {
   "cell_type": "markdown",
   "metadata": {},
   "source": [
    "#### Observations"
   ]
  },
  {
   "cell_type": "markdown",
   "metadata": {},
   "source": [
    "* Class \"Negative\":\n",
    "  \n",
    "Precision: 0.59 - The model correctly identifies negative tweets 59% of the time among all predicted negative tweets.\n",
    "\n",
    "Recall: 0.11 - The model captures only 11% of actual negative tweets among all actual negative tweets.\n",
    "\n",
    "* Class \"No emotion\":\n",
    "  \n",
    "Precision: 0.72 - The model correctly identifies no emotion tweets 72% of the time among all predicted no emotion tweets.\n",
    "\n",
    "Recall: 0.86 - The model captures 86% of actual no emotion towards brand tweets among all no emotion tweets.\n",
    "\n",
    "* Class \"positive\":\n",
    "  \n",
    "Precision: 0.59 - The model correctly identifies positive tweets 59% of the time among all predicted positive tweets.\n",
    "\n",
    "Recall: 0.50 - The model captures 50% of actual positive tweets among all actual positive tweets.\n",
    "\n",
    "* Accuracy:\n",
    "\n",
    "Overall accuracy: 0.68 - The model's predictions are correct for 68% of all tweets.\n",
    "\n",
    "Analysis:\n",
    "\n",
    "The model performs reasonably well for the \"No Emotion\" class, with a high recall score and precision score .\n",
    "\n",
    "However, the model struggles with the \"Positive\" and \"Negative\" classes, as indicated by\n",
    "\n",
    "low recall but we have an improvement on class positive recall on this model as compared to the base model.\n",
    "\n",
    "The overall model accuracy improved as compared to baseline model low.This model performed better."
   ]
  },
  {
   "cell_type": "markdown",
   "metadata": {},
   "source": [
    "####  3.Decision Tree"
   ]
  },
  {
   "cell_type": "code",
   "execution_count": 47,
   "metadata": {},
   "outputs": [],
   "source": [
    "# import library\n",
    "from sklearn.tree import DecisionTreeClassifier\n",
    "# Instatiate class\n",
    "model_dt = DecisionTreeClassifier()\n",
    "# Fit the model\n",
    "model_dt.fit(X_train_tf, y_train)\n",
    "\n",
    "# Predict on the training set\n",
    "y_train_pred = model_dt.predict(X_train_tf)\n",
    "\n",
    "# Predict on the test set\n",
    "y_test_pred = model_dt.predict(X_test_tf)\n"
   ]
  },
  {
   "cell_type": "code",
   "execution_count": 48,
   "metadata": {},
   "outputs": [
    {
     "name": "stdout",
     "output_type": "stream",
     "text": [
      "Train Accuracy score: 0.9960033076074972\n",
      "Test Accuracy score:  0.5953693495038589\n",
      "Train F1 score:  0.9959999828804893\n",
      "Test F1 score:  0.5960223796949914\n"
     ]
    }
   ],
   "source": [
    "#calcuate the metrics\n",
    "f1_train = metrics.f1_score(y_train, y_train_pred, average='weighted')\n",
    "f1_test = metrics.f1_score(y_test, y_test_pred, average='weighted')\n",
    "print('Train Accuracy score:', metrics.accuracy_score(y_train, y_train_pred))\n",
    "print('Test Accuracy score: ', metrics.accuracy_score(y_test,  y_test_pred))\n",
    "print('Train F1 score: ', f1_train)\n",
    "print('Test F1 score: ', f1_test)"
   ]
  },
  {
   "cell_type": "code",
   "execution_count": 49,
   "metadata": {},
   "outputs": [
    {
     "name": "stdout",
     "output_type": "stream",
     "text": [
      "[[  1   3  23   6]\n",
      " [  2  29  53  35]\n",
      " [  9  45 756 296]\n",
      " [ 14  23 225 294]]\n",
      "                                    precision    recall  f1-score   support\n",
      "\n",
      "                      I can't tell       0.04      0.03      0.03        33\n",
      "                  Negative emotion       0.29      0.24      0.26       119\n",
      "No emotion toward brand or product       0.72      0.68      0.70      1106\n",
      "                  Positive emotion       0.47      0.53      0.50       556\n",
      "\n",
      "                          accuracy                           0.60      1814\n",
      "                         macro avg       0.38      0.37      0.37      1814\n",
      "                      weighted avg       0.60      0.60      0.60      1814\n",
      "\n",
      "Accuracy score:  0.5953693495038589\n"
     ]
    }
   ],
   "source": [
    "y_test_pred = model_dt.predict(X_test_tf)\n",
    "from sklearn.metrics import recall_score\n",
    "# confusion matrix and classification report\n",
    "print(confusion_matrix(y_test, y_test_pred))\n",
    "print(classification_report(y_test, y_test_pred))\n",
    "print('Accuracy score: ',accuracy_score(y_test, y_test_pred))"
   ]
  },
  {
   "cell_type": "code",
   "execution_count": 50,
   "metadata": {},
   "outputs": [
    {
     "data": {
      "image/png": "[encoded data removed]",
      "text/plain": [
       "<Figure size 432x288 with 2 Axes>"
      ]
     },
     "metadata": {
      "needs_background": "light"
     },
     "output_type": "display_data"
    }
   ],
   "source": [
    "#Compute the confusion matrix\n",
    "cm = confusion_matrix(y_test, y_test_pred)\n",
    "\n",
    "#Create a ConfusionMatrixDisplay object\n",
    "disp = ConfusionMatrixDisplay(confusion_matrix=cm)\n",
    "\n",
    "#plot confusion matrix\n",
    "disp.plot()\n",
    "plt.grid(False)\n",
    "plt.show()"
   ]
  },
  {
   "cell_type": "markdown",
   "metadata": {},
   "source": [
    "#### Observations"
   ]
  },
  {
   "cell_type": "markdown",
   "metadata": {},
   "source": [
    "* Class \"Negative\":\n",
    "  \n",
    "Precision: 0.32 - The model correctly identifies negative tweets 32% of the time among all predicted negative tweets.\n",
    "\n",
    "Recall: 0.28 - The model captures only 28% of actual negative tweets among all actual negative tweets.\n",
    "\n",
    "* Class \"No emotion\":\n",
    "  \n",
    "Precision: 0.72 - The model correctly identifies no emotion tweets 72% of the time among all predicted no emotion tweets.\n",
    "\n",
    "Recall: 0.69 - The model captures 69% of actual no emotion towards brand tweets among all no emotion tweets.\n",
    "\n",
    "* Class \"positive\":\n",
    "  \n",
    "Precision: 0.48 - The model correctly identifies positive tweets 48% of the time among all predicted positive tweets.\n",
    "\n",
    "Recall: 0.53 - The model captures 53% of actual positive tweets among all actual positive tweets.\n",
    "\n",
    "* Accuracy:\n",
    "\n",
    "Overall accuracy: 0.61 - The model's predictions are correct for 61% of all tweets.\n",
    "\n",
    "Analysis:\n",
    "\n",
    "The model performs reasonably well for the \"No Emotion\" class, with a high recall and precision score . This indicates that the model is \n",
    "\n",
    "effective at identifying tweets with no emotion towards a brand.\n",
    "\n",
    "However, the model struggles with the \"Positive\" and \"Negative\" classes, as indicated by low recall,but in this model the recall score improved to 53 % as compared to that of logistic regression which was 50%. This suggests that the model has difficulty distinguishing between these sentiment classes.\n",
    "\n",
    "Also the overall model accuracy is low for this model as compared to that of baseline model(67%)and logistic regression model (68%)."
   ]
  },
  {
   "cell_type": "markdown",
   "metadata": {},
   "source": [
    "#### 4.Support vector machine"
   ]
  },
  {
   "cell_type": "code",
   "execution_count": 51,
   "metadata": {},
   "outputs": [],
   "source": [
    "#import library\n",
    "from sklearn.svm import SVC\n",
    "# Instantiate support vector classifier\n",
    "svc = SVC()\n",
    "\n",
    "# Fit the model\n",
    "svc.fit(X_train_tf, y_train)\n",
    "\n",
    "# Predict on the training set\n",
    "y_train_pred = svc.predict(X_train_tf)\n",
    "\n",
    "# Predict on the test set\n",
    "y_test_pred = svc.predict(X_test_tf)"
   ]
  },
  {
   "cell_type": "code",
   "execution_count": 52,
   "metadata": {},
   "outputs": [
    {
     "name": "stdout",
     "output_type": "stream",
     "text": [
      "Train Accuracy score: 0.8907111356119074\n",
      "Test Accuracy score:  0.7067254685777288\n",
      "Train F1 score:  0.8801989399732401\n",
      "Test F1 score:  0.6762832803508932\n"
     ]
    }
   ],
   "source": [
    "#calcuate the metrics\n",
    "f1_train = metrics.f1_score(y_train, y_train_pred, average='weighted')\n",
    "f1_test = metrics.f1_score(y_test, y_test_pred, average='weighted')\n",
    "print('Train Accuracy score:', metrics.accuracy_score(y_train, y_train_pred))\n",
    "print('Test Accuracy score: ', metrics.accuracy_score(y_test,  y_test_pred))\n",
    "print('Train F1 score: ', f1_train)\n",
    "print('Test F1 score: ', f1_test)"
   ]
  },
  {
   "cell_type": "code",
   "execution_count": 53,
   "metadata": {},
   "outputs": [
    {
     "name": "stdout",
     "output_type": "stream",
     "text": [
      "[[  0   0  25   8]\n",
      " [  0  20  75  24]\n",
      " [  0   2 992 112]\n",
      " [  0   1 285 270]]\n",
      "                                    precision    recall  f1-score   support\n",
      "\n",
      "                      I can't tell       0.00      0.00      0.00        33\n",
      "                  Negative emotion       0.87      0.17      0.28       119\n",
      "No emotion toward brand or product       0.72      0.90      0.80      1106\n",
      "                  Positive emotion       0.65      0.49      0.56       556\n",
      "\n",
      "                          accuracy                           0.71      1814\n",
      "                         macro avg       0.56      0.39      0.41      1814\n",
      "                      weighted avg       0.70      0.71      0.68      1814\n",
      "\n",
      "Accuracy score:  0.7067254685777288\n"
     ]
    }
   ],
   "source": [
    "y_test_pred = svc.predict(X_test_tf)\n",
    "from sklearn.metrics import recall_score\n",
    "# confusion matrix and classification report\n",
    "print(confusion_matrix(y_test, y_test_pred))\n",
    "print(classification_report(y_test, y_test_pred))\n",
    "print('Accuracy score: ',accuracy_score(y_test, y_test_pred))"
   ]
  },
  {
   "cell_type": "code",
   "execution_count": 54,
   "metadata": {},
   "outputs": [
    {
     "data": {
      "image/png": "[encoded data removed]",
      "text/plain": [
       "<Figure size 432x288 with 2 Axes>"
      ]
     },
     "metadata": {
      "needs_background": "light"
     },
     "output_type": "display_data"
    }
   ],
   "source": [
    "#Compute the confusion matrix\n",
    "cm = confusion_matrix(y_test, y_test_pred)\n",
    "\n",
    "#Create a ConfusionMatrixDisplay object\n",
    "disp = ConfusionMatrixDisplay(confusion_matrix=cm)\n",
    "\n",
    "#plot confusion matrix\n",
    "disp.plot()\n",
    "plt.grid(False)\n",
    "plt.show()"
   ]
  },
  {
   "cell_type": "markdown",
   "metadata": {},
   "source": [
    "#### Observations"
   ]
  },
  {
   "cell_type": "markdown",
   "metadata": {},
   "source": [
    "* Class \"Negative\":\n",
    "  \n",
    "Precision: 0.87 - The model correctly identifies negative tweets 87% of the time among all predicted negative tweets.\n",
    "\n",
    "Recall: 0.17 - The model captures only 17% of actual negative tweets among all actual negative tweets.\n",
    "\n",
    "* Class \"No emotion\":\n",
    "  \n",
    "Precision: 0.72 - The model correctly identifies no emotion tweets 72% of the time among all predicted no emotion tweets.\n",
    "\n",
    "Recall: 0.90 - The model captures 90% of actual no emotion towards brand tweets among all no emotion tweets.\n",
    "\n",
    "* Class \"positive\":\n",
    "  \n",
    "Precision: 0.65 - The model correctly identifies positive tweets 65% of the time among all predicted positive tweets.\n",
    "\n",
    "Recall: 0.49 - The model captures 49% of actual positive tweets among all actual positive tweets.\n",
    "\n",
    "* Accuracy:\n",
    "\n",
    "Overall accuracy: 0.71 - The model's predictions are correct for 71% of all tweets.\n",
    "\n",
    "Analysis:\n",
    "\n",
    "The model performs reasonably well as compared to the other models \n",
    "\n",
    "The overall model accuracy stands at 71% the highest compared to the other models. \n",
    "\n",
    "We go ahead to look at how our data behaves with other models in deep learning."
   ]
  },
  {
   "cell_type": "markdown",
   "metadata": {},
   "source": [
    "## 6.0 DEEP LEARNING"
   ]
  },
  {
   "cell_type": "markdown",
   "metadata": {},
   "source": [
    "We are going to explore deep learning models. We will use the following models:\n",
    "1. LSTM (Long Short Term Memory) \n",
    "    For this model, we will use the Bidirectional LSTM layer to capture both past and future context. We will also add a dropout layer to prevent overfitting. After that, we will add another bidirectional LSTM layer and another dropout layer. Finally, we will add a Dense layer with a softmax activation function to output the probabilities for each class.\n",
    "2. CNN (Convolutional Neural Network) \n",
    "    For this model, we will use a 1D convolutional layer with a ReLU activation function followed by a global max pooling layer to capture the most important features. After that, we will add a Dense layer with a softmax activation function to output the probabilities for each class.\n",
    "3. GRU (Gated Recurrent Unit) \n",
    "    For this model, we will use a bidirectional GRU layer with a dropout layer to prevent overfitting. After that, we will add a Dense layer with a softmax activation function to output the probabilities for each class."
   ]
  },
  {
   "cell_type": "markdown",
   "metadata": {},
   "source": [
    "We will create a class that will help us to define our models and also calculate their weights in regards to the dataset we have. "
   ]
  },
  {
   "cell_type": "code",
   "execution_count": 61,
   "metadata": {},
   "outputs": [],
   "source": [
    "import numpy as np\n",
    "import pandas as pd\n",
    "from sklearn.preprocessing import LabelEncoder\n",
    "from sklearn.model_selection import train_test_split\n",
    "from sklearn.metrics import accuracy_score, f1_score, classification_report, confusion_matrix\n",
    "from tensorflow.keras.preprocessing.text import Tokenizer\n",
    "from tensorflow.keras.preprocessing.sequence import pad_sequences\n",
    "from tensorflow.keras.utils import to_categorical\n",
    "from tensorflow.keras.models import Sequential\n",
    "from tensorflow.keras.layers import Embedding, LSTM, Dense, Dropout, Bidirectional, Conv1D, GlobalMaxPooling1D, GRU\n",
    "from imblearn.over_sampling import SMOTE\n",
    "from imblearn.under_sampling import RandomUnderSampler\n",
    "from imblearn.combine import SMOTEENN\n",
    "from sklearn.utils.class_weight import compute_class_weight\n",
    "\n",
    "class ModelBuilder:\n",
    "    def __init__(self, model_type, input_dim, output_dim, input_length, num_classes):\n",
    "        self.model = self.build_model(model_type, input_dim, output_dim, input_length, num_classes)\n",
    "\n",
    "    def build_model(self, model_type, input_dim, output_dim, input_length, num_classes):\n",
    "        model = Sequential()\n",
    "        model.add(Embedding(input_dim=input_dim, output_dim=output_dim, input_length=input_length))\n",
    "\n",
    "        if model_type == 'LSTM':\n",
    "            model.add(Bidirectional(LSTM(64, return_sequences=True)))\n",
    "            model.add(Dropout(0.5))\n",
    "            model.add(Bidirectional(LSTM(32)))\n",
    "        elif model_type == 'CNN':\n",
    "            model.add(Conv1D(128, 5, activation='relu'))\n",
    "            model.add(GlobalMaxPooling1D())\n",
    "            model.add(Dense(32, activation='relu'))\n",
    "        elif model_type == 'GRU':\n",
    "            model.add(Bidirectional(GRU(64, return_sequences=True)))\n",
    "            model.add(Dropout(0.5))\n",
    "            model.add(Bidirectional(GRU(32)))\n",
    "\n",
    "        model.add(Dense(32, activation='relu'))\n",
    "        model.add(Dropout(0.5))\n",
    "        model.add(Dense(num_classes, activation='softmax'))\n",
    "        model.compile(optimizer='adam', loss='categorical_crossentropy', metrics=['accuracy'])\n",
    "        return model\n",
    "\n",
    "    def fit(self, X_train, y_train, epochs=10, batch_size=32, validation_split=0.2):\n",
    "        self.model.fit(X_train, y_train, epochs=epochs, batch_size=batch_size, validation_split=validation_split)\n",
    "\n",
    "    def predict(self, X):\n",
    "        return self.model.predict(X)\n",
    "\n",
    "    def evaluate(self, X_train, y_train, X_test, y_test):\n",
    "        y_train_pred = np.argmax(self.predict(X_train), axis=1)\n",
    "        y_test_pred = np.argmax(self.predict(X_test), axis=1)\n",
    "\n",
    "        y_train_true = np.argmax(y_train, axis=1)\n",
    "        y_test_true = np.argmax(y_test, axis=1)\n",
    "\n",
    "        accuracy_train = accuracy_score(y_train_true, y_train_pred)\n",
    "        accuracy_test = accuracy_score(y_test_true, y_test_pred)\n",
    "        f1_test = f1_score(y_test_true, y_test_pred, average='weighted')\n",
    "        class_report_test = classification_report(y_test_true, y_test_pred)\n",
    "        matrix_test = confusion_matrix(y_test_true, y_test_pred)\n",
    "\n",
    "        evaluation_results = {\n",
    "            'train': {\n",
    "                'accuracy': accuracy_train\n",
    "            },\n",
    "            'test': {\n",
    "                'accuracy': accuracy_test,\n",
    "                'f1_score': f1_test,\n",
    "                'classification_report': class_report_test,\n",
    "                'confusion_matrix': matrix_test\n",
    "            }\n",
    "        }\n",
    "        return evaluation_results\n"
   ]
  },
  {
   "cell_type": "code",
   "execution_count": 59,
   "metadata": {},
   "outputs": [],
   "source": [
    "# Extract relevant columns\n",
    "texts = df1['lemmatized_tweet'].values\n",
    "labels = df1['emotion'].values\n",
    "\n",
    "# Encode labels\n",
    "label_encoder = LabelEncoder()\n",
    "labels_encoded = label_encoder.fit_transform(labels)\n",
    "labels_encoded = to_categorical(labels_encoded)\n",
    "\n",
    "# Split the dataset\n",
    "X_train, X_test, y_train, y_test = train_test_split(texts, labels_encoded, test_size=0.2, random_state=42)\n",
    "\n",
    "# Tokenize and pad sequences\n",
    "max_words = 10000\n",
    "max_len = 100\n",
    "\n",
    "tokenizer = Tokenizer(num_words=max_words)\n",
    "tokenizer.fit_on_texts(X_train)\n",
    "\n",
    "X_train_seq = tokenizer.texts_to_sequences(X_train)\n",
    "X_test_seq = tokenizer.texts_to_sequences(X_test)\n",
    "\n",
    "X_train_padded = pad_sequences(X_train_seq, maxlen=max_len)\n",
    "X_test_padded = pad_sequences(X_test_seq, maxlen=max_len)"
   ]
  },
  {
   "cell_type": "code",
   "execution_count": 64,
   "metadata": {},
   "outputs": [
    {
     "name": "stdout",
     "output_type": "stream",
     "text": [
      "Training LSTM model...\n",
      "Epoch 1/10\n",
      "182/182 [==============================] - 56s 305ms/step - loss: 0.9635 - accuracy: 0.5803 - val_loss: 0.8613 - val_accuracy: 0.6178\n",
      "Epoch 2/10\n",
      "182/182 [==============================] - 41s 226ms/step - loss: 0.8011 - accuracy: 0.6594 - val_loss: 0.8397 - val_accuracy: 0.5992\n",
      "Epoch 3/10\n",
      "182/182 [==============================] - 44s 243ms/step - loss: 0.6177 - accuracy: 0.7627 - val_loss: 0.8739 - val_accuracy: 0.6398\n",
      "Epoch 4/10\n",
      "182/182 [==============================] - 41s 226ms/step - loss: 0.4747 - accuracy: 0.8286 - val_loss: 0.9500 - val_accuracy: 0.6570\n",
      "Epoch 5/10\n",
      "182/182 [==============================] - 42s 230ms/step - loss: 0.3841 - accuracy: 0.8651 - val_loss: 1.0386 - val_accuracy: 0.6494\n",
      "Epoch 6/10\n",
      "182/182 [==============================] - 42s 230ms/step - loss: 0.3276 - accuracy: 0.8815 - val_loss: 1.1535 - val_accuracy: 0.6322\n",
      "Epoch 7/10\n",
      "182/182 [==============================] - 43s 234ms/step - loss: 0.2764 - accuracy: 0.8994 - val_loss: 1.2894 - val_accuracy: 0.6474\n",
      "Epoch 8/10\n",
      "182/182 [==============================] - 44s 240ms/step - loss: 0.2457 - accuracy: 0.9076 - val_loss: 1.5232 - val_accuracy: 0.6405\n",
      "Epoch 9/10\n",
      "182/182 [==============================] - 42s 233ms/step - loss: 0.2265 - accuracy: 0.9151 - val_loss: 1.6369 - val_accuracy: 0.6494\n",
      "Epoch 10/10\n",
      "182/182 [==============================] - 44s 241ms/step - loss: 0.2136 - accuracy: 0.9128 - val_loss: 1.6377 - val_accuracy: 0.6377\n",
      "LSTM Results:\n",
      "Train Accuracy: 0.8741730981256891\n",
      "Test Accuracy: 0.6466372657111357\n",
      "F1 Score: 0.6409321653925979\n",
      "Classification Report:\n",
      "               precision    recall  f1-score   support\n",
      "\n",
      "           0       0.00      0.00      0.00        33\n",
      "           1       0.40      0.34      0.37       119\n",
      "           2       0.74      0.73      0.73      1106\n",
      "           3       0.53      0.58      0.55       556\n",
      "\n",
      "    accuracy                           0.65      1814\n",
      "   macro avg       0.42      0.41      0.41      1814\n",
      "weighted avg       0.64      0.65      0.64      1814\n",
      "\n",
      "Confusion Matrix:\n",
      " [[  0   6  18   9]\n",
      " [  0  40  53  26]\n",
      " [  0  40 809 257]\n",
      " [  0  13 219 324]]\n",
      "Training CNN model...\n",
      "Epoch 1/10\n",
      "182/182 [==============================] - 11s 63ms/step - loss: 1.0016 - accuracy: 0.5612 - val_loss: 0.8640 - val_accuracy: 0.6233\n",
      "Epoch 2/10\n",
      "182/182 [==============================] - 11s 59ms/step - loss: 0.8119 - accuracy: 0.6732 - val_loss: 0.8142 - val_accuracy: 0.6419\n",
      "Epoch 3/10\n",
      "182/182 [==============================] - 11s 61ms/step - loss: 0.5737 - accuracy: 0.7938 - val_loss: 0.8765 - val_accuracy: 0.6763\n",
      "Epoch 4/10\n",
      "182/182 [==============================] - 11s 62ms/step - loss: 0.3834 - accuracy: 0.8754 - val_loss: 0.9751 - val_accuracy: 0.6446\n",
      "Epoch 5/10\n",
      "182/182 [==============================] - 11s 63ms/step - loss: 0.2811 - accuracy: 0.9080 - val_loss: 1.0549 - val_accuracy: 0.6315\n",
      "Epoch 6/10\n",
      "182/182 [==============================] - 11s 61ms/step - loss: 0.2161 - accuracy: 0.9247 - val_loss: 1.1622 - val_accuracy: 0.6419\n",
      "Epoch 7/10\n",
      "182/182 [==============================] - 11s 59ms/step - loss: 0.1769 - accuracy: 0.9369 - val_loss: 1.1862 - val_accuracy: 0.6405\n",
      "Epoch 8/10\n",
      "182/182 [==============================] - 11s 58ms/step - loss: 0.1491 - accuracy: 0.9452 - val_loss: 1.4684 - val_accuracy: 0.6329\n",
      "Epoch 9/10\n",
      "182/182 [==============================] - 10s 56ms/step - loss: 0.1223 - accuracy: 0.9581 - val_loss: 1.7092 - val_accuracy: 0.6240\n",
      "Epoch 10/10\n",
      "182/182 [==============================] - 11s 59ms/step - loss: 0.1160 - accuracy: 0.9573 - val_loss: 1.7568 - val_accuracy: 0.6529\n",
      "CNN Results:\n",
      "Train Accuracy: 0.9122105843439912\n",
      "Test Accuracy: 0.6543550165380375\n",
      "F1 Score: 0.6447563871554732\n",
      "Classification Report:\n",
      "               precision    recall  f1-score   support\n",
      "\n",
      "           0       0.00      0.00      0.00        33\n",
      "           1       0.43      0.31      0.36       119\n",
      "           2       0.73      0.76      0.74      1106\n",
      "           3       0.54      0.55      0.55       556\n",
      "\n",
      "    accuracy                           0.65      1814\n",
      "   macro avg       0.42      0.41      0.41      1814\n",
      "weighted avg       0.64      0.65      0.64      1814\n",
      "\n",
      "Confusion Matrix:\n",
      " [[  0   2  22   9]\n",
      " [  0  37  59  23]\n",
      " [  2  35 846 223]\n",
      " [  0  13 239 304]]\n",
      "Training GRU model...\n",
      "Epoch 1/10\n",
      "182/182 [==============================] - 49s 268ms/step - loss: 0.9967 - accuracy: 0.5481 - val_loss: 0.8638 - val_accuracy: 0.6205\n",
      "Epoch 2/10\n",
      "182/182 [==============================] - 45s 245ms/step - loss: 0.7923 - accuracy: 0.6766 - val_loss: 0.8251 - val_accuracy: 0.6357\n",
      "Epoch 3/10\n",
      "182/182 [==============================] - 45s 248ms/step - loss: 0.6039 - accuracy: 0.7748 - val_loss: 0.8978 - val_accuracy: 0.6515\n",
      "Epoch 4/10\n",
      "182/182 [==============================] - 45s 245ms/step - loss: 0.4661 - accuracy: 0.8422 - val_loss: 0.9586 - val_accuracy: 0.6453\n",
      "Epoch 5/10\n",
      "182/182 [==============================] - 45s 248ms/step - loss: 0.3739 - accuracy: 0.8647 - val_loss: 1.0853 - val_accuracy: 0.6467\n",
      "Epoch 6/10\n",
      "182/182 [==============================] - 45s 249ms/step - loss: 0.3092 - accuracy: 0.8894 - val_loss: 1.3134 - val_accuracy: 0.6550\n",
      "Epoch 7/10\n",
      "182/182 [==============================] - 44s 244ms/step - loss: 0.2823 - accuracy: 0.8982 - val_loss: 1.4161 - val_accuracy: 0.6515\n",
      "Epoch 8/10\n",
      "182/182 [==============================] - 45s 250ms/step - loss: 0.2453 - accuracy: 0.9063 - val_loss: 1.4092 - val_accuracy: 0.6467\n",
      "Epoch 9/10\n",
      "182/182 [==============================] - 55s 302ms/step - loss: 0.2238 - accuracy: 0.9132 - val_loss: 1.5742 - val_accuracy: 0.6329\n",
      "Epoch 10/10\n",
      "182/182 [==============================] - 66s 361ms/step - loss: 0.2062 - accuracy: 0.9175 - val_loss: 1.7769 - val_accuracy: 0.6412\n",
      "GRU Results:\n",
      "Train Accuracy: 0.8700385887541345\n",
      "Test Accuracy: 0.6422271223814774\n",
      "F1 Score: 0.6305140159245355\n",
      "Classification Report:\n",
      "               precision    recall  f1-score   support\n",
      "\n",
      "           0       0.00      0.00      0.00        33\n",
      "           1       0.46      0.22      0.30       119\n",
      "           2       0.72      0.75      0.74      1106\n",
      "           3       0.51      0.55      0.53       556\n",
      "\n",
      "    accuracy                           0.64      1814\n",
      "   macro avg       0.42      0.38      0.39      1814\n",
      "weighted avg       0.63      0.64      0.63      1814\n",
      "\n",
      "Confusion Matrix:\n",
      " [[  0   2  21  10]\n",
      " [  1  26  60  32]\n",
      " [  1  23 835 247]\n",
      " [  0   6 246 304]]\n"
     ]
    }
   ],
   "source": [
    "# Parameters\n",
    "input_dim = max_words\n",
    "output_dim = 100\n",
    "input_length = max_len\n",
    "num_classes = labels_encoded.shape[1]\n",
    "\n",
    "# LSTM Model\n",
    "print(\"Training LSTM model...\")\n",
    "lstm_model_builder = ModelBuilder('LSTM', input_dim, output_dim, input_length, num_classes)\n",
    "lstm_model_builder.fit(X_train_padded, y_train, epochs=10, batch_size=32, validation_split=0.2)\n",
    "lstm_results = lstm_model_builder.evaluate(X_train_padded, y_train, X_test_padded, y_test)\n",
    "print(\"LSTM Results:\")\n",
    "print(\"Train Accuracy:\", lstm_results['train']['accuracy'])\n",
    "print(\"Test Accuracy:\", lstm_results['test']['accuracy'])\n",
    "print(\"F1 Score:\", lstm_results['test']['f1_score'])\n",
    "print(\"Classification Report:\\n\", lstm_results['test']['classification_report'])\n",
    "print(\"Confusion Matrix:\\n\", lstm_results['test']['confusion_matrix'])\n",
    "\n",
    "# CNN Model\n",
    "print(\"Training CNN model...\")\n",
    "cnn_model_builder = ModelBuilder('CNN', input_dim, output_dim, input_length, num_classes)\n",
    "cnn_model_builder.fit(X_train_padded, y_train, epochs=10, batch_size=32, validation_split=0.2)\n",
    "cnn_results = cnn_model_builder.evaluate(X_train_padded, y_train, X_test_padded, y_test)\n",
    "print(\"CNN Results:\")\n",
    "print(\"Train Accuracy:\", cnn_results['train']['accuracy'])\n",
    "print(\"Test Accuracy:\", cnn_results['test']['accuracy'])\n",
    "print(\"F1 Score:\", cnn_results['test']['f1_score'])\n",
    "print(\"Classification Report:\\n\", cnn_results['test']['classification_report'])\n",
    "print(\"Confusion Matrix:\\n\", cnn_results['test']['confusion_matrix'])\n",
    "\n",
    "# GRU Model\n",
    "print(\"Training GRU model...\")\n",
    "gru_model_builder = ModelBuilder('GRU', input_dim, output_dim, input_length, num_classes)\n",
    "gru_model_builder.fit(X_train_padded, y_train, epochs=10, batch_size=32, validation_split=0.2)\n",
    "gru_results = gru_model_builder.evaluate(X_train_padded, y_train, X_test_padded, y_test)\n",
    "print(\"GRU Results:\")\n",
    "print(\"Train Accuracy:\", gru_results['train']['accuracy'])\n",
    "print(\"Test Accuracy:\", gru_results['test']['accuracy'])\n",
    "print(\"F1 Score:\", gru_results['test']['f1_score'])\n",
    "print(\"Classification Report:\\n\", gru_results['test']['classification_report'])\n",
    "print(\"Confusion Matrix:\\n\", gru_results['test']['confusion_matrix'])"
   ]
  },
  {
   "cell_type": "markdown",
   "metadata": {},
   "source": [
    "Observations:\n",
    "\n",
    "- Training Accuracy:\n",
    "\n",
    "  - CNN achieved the highest training accuracy (0.9122), suggesting possible overfitting.\n",
    "  - GRU (0.8700) and LSTM (0.8742) also performed well but lower than CNN.\n",
    "- Test Accuracy:\n",
    "\n",
    "   - CNN (0.6544) outperformed LSTM (0.6466) and GRU (0.6422) in generalization to unseen data.\n",
    "- Precision\n",
    "  - Class negative :\n",
    "    * GRU: 0.46 (highest)\n",
    "    * CNN: 0.43\n",
    "    * LSTM: 0.40 (lowest)\n",
    "  - Class No emotion :\n",
    "     - All models showed similar precision (CNN: 0.73, LSTM: 0.74, GRU: 0.72), with LSTM marginally better.\n",
    "  - Class Positive :\n",
    "     - CNN had the highest precision (0.54), followed by LSTM (0.53) and GRU (0.51).\n",
    "- Recall\n",
    "  - Class positive :\n",
    "    - LSTM had the highest recall (0.34), followed by CNN (0.31) and GRU (0.22).\n",
    "  - Class No emotion :\n",
    "    - CNN excelled in recall (0.76), followed by GRU (0.75) and LSTM (0.73).\n",
    "  -Class positive:\n",
    "    - LSTM achieved the highest recall (0.58), compared to GRU (0.55) and CNN (0.55).\n"
   ]
  },
  {
   "cell_type": "markdown",
   "metadata": {},
   "source": [
    "We will try balancing the classes using SMOTE to see if the accuracy will improve significantly."
   ]
  },
  {
   "cell_type": "code",
   "execution_count": 63,
   "metadata": {},
   "outputs": [
    {
     "name": "stdout",
     "output_type": "stream",
     "text": [
      "Epoch 1/10\n",
      "427/427 [==============================] - 75s 175ms/step - loss: 1.1574 - accuracy: 0.4839 - val_loss: 2.1180 - val_accuracy: 0.0000e+00\n",
      "Epoch 2/10\n",
      "427/427 [==============================] - 76s 177ms/step - loss: 0.9483 - accuracy: 0.5652 - val_loss: 2.3408 - val_accuracy: 0.0404\n",
      "Epoch 3/10\n",
      "427/427 [==============================] - 82s 191ms/step - loss: 0.8073 - accuracy: 0.6261 - val_loss: 3.2961 - val_accuracy: 0.0518\n",
      "Epoch 4/10\n",
      "427/427 [==============================] - 74s 174ms/step - loss: 0.6934 - accuracy: 0.6783 - val_loss: 3.3200 - val_accuracy: 0.1639\n",
      "Epoch 5/10\n",
      "427/427 [==============================] - 101s 236ms/step - loss: 0.6074 - accuracy: 0.7291 - val_loss: 4.0032 - val_accuracy: 0.1279\n",
      "Epoch 6/10\n",
      "427/427 [==============================] - 70s 163ms/step - loss: 0.5272 - accuracy: 0.7764 - val_loss: 3.9762 - val_accuracy: 0.2046\n",
      "Epoch 7/10\n",
      "427/427 [==============================] - 88s 207ms/step - loss: 0.4463 - accuracy: 0.8202 - val_loss: 5.0047 - val_accuracy: 0.1982\n",
      "Epoch 8/10\n",
      "427/427 [==============================] - 93s 218ms/step - loss: 0.3718 - accuracy: 0.8575 - val_loss: 5.2924 - val_accuracy: 0.2117\n",
      "Epoch 9/10\n",
      "427/427 [==============================] - 102s 240ms/step - loss: 0.2980 - accuracy: 0.8947 - val_loss: 5.4496 - val_accuracy: 0.2559\n",
      "Epoch 10/10\n",
      "427/427 [==============================] - 110s 257ms/step - loss: 0.2631 - accuracy: 0.9060 - val_loss: 5.9986 - val_accuracy: 0.2389\n",
      "Evaluation Results: {'train': {'accuracy': 0.9283351708930541}, 'test': {'accuracy': 0.5915104740904079, 'f1_score': 0.6109858081866633, 'classification_report': '              precision    recall  f1-score   support\\n\\n           0       0.03      0.09      0.04        33\\n           1       0.26      0.32      0.28       119\\n           2       0.76      0.65      0.70      1106\\n           3       0.51      0.55      0.53       556\\n\\n    accuracy                           0.59      1814\\n   macro avg       0.39      0.40      0.39      1814\\nweighted avg       0.64      0.59      0.61      1814\\n', 'confusion_matrix': array([[  3,   3,  17,  10],\n",
      "       [ 11,  38,  37,  33],\n",
      "       [ 58,  70, 724, 254],\n",
      "       [ 36,  38, 174, 308]], dtype=int64)}}\n"
     ]
    }
   ],
   "source": [
    "# Resample the training set using SMOTE\n",
    "smote = SMOTE()\n",
    "X_train_resampled, y_train_resampled = smote.fit_resample(X_train_padded, y_train)\n",
    "\n",
    "# Compute class weights\n",
    "y_train_resampled_labels = np.argmax(y_train_resampled, axis=1)\n",
    "class_weights = compute_class_weight('balanced', classes=np.unique(y_train_resampled_labels), y=y_train_resampled_labels)\n",
    "class_weights_dict = dict(enumerate(class_weights))\n",
    "\n",
    "# Build and train the model\n",
    "model = Sequential()\n",
    "model.add(Embedding(input_dim=max_words, output_dim=100, input_length=max_len))\n",
    "model.add(Bidirectional(LSTM(64, return_sequences=True)))\n",
    "model.add(Dropout(0.5))\n",
    "model.add(Bidirectional(LSTM(32)))\n",
    "model.add(Dense(32, activation='relu'))\n",
    "model.add(Dropout(0.5))\n",
    "model.add(Dense(len(label_encoder.classes_), activation='softmax'))\n",
    "\n",
    "model.compile(optimizer='adam', loss='categorical_crossentropy', metrics=['accuracy'])\n",
    "model.fit(X_train_resampled, y_train_resampled, epochs=10, batch_size=32, validation_split=0.2, class_weight=class_weights_dict)\n",
    "\n",
    "# Evaluate the model\n",
    "y_train_pred = np.argmax(model.predict(X_train_padded), axis=1)\n",
    "y_test_pred = np.argmax(model.predict(X_test_padded), axis=1)\n",
    "\n",
    "y_train_true = np.argmax(y_train, axis=1)\n",
    "y_test_true = np.argmax(y_test, axis=1)\n",
    "\n",
    "accuracy_train = accuracy_score(y_train_true, y_train_pred)\n",
    "accuracy_test = accuracy_score(y_test_true, y_test_pred)\n",
    "f1_test = f1_score(y_test_true, y_test_pred, average='weighted')\n",
    "class_report_test = classification_report(y_test_true, y_test_pred)\n",
    "matrix_test = confusion_matrix(y_test_true, y_test_pred)\n",
    "\n",
    "evaluation_results = {\n",
    "    'train': {\n",
    "        'accuracy': accuracy_train\n",
    "    },\n",
    "    'test': {\n",
    "        'accuracy': accuracy_test,\n",
    "        'f1_score': f1_test,\n",
    "        'classification_report': class_report_test,\n",
    "        'confusion_matrix': matrix_test\n",
    "    }\n",
    "}\n",
    "\n",
    "print(\"Evaluation Results:\", evaluation_results)"
   ]
  },
  {
   "cell_type": "markdown",
   "metadata": {},
   "source": [
    "The accuracy of the model did not improve even after doing resampling using SMOTE."
   ]
  },
  {
   "cell_type": "markdown",
   "metadata": {},
   "source": [
    "## 7.0 EVALUATION"
   ]
  },
  {
   "cell_type": "markdown",
   "metadata": {},
   "source": [
    "In our study, we used the following models:\n",
    "\n",
    "- Naive Bayes\n",
    "- Support Vector Machine (SVM)\n",
    "- Decision Tree\n",
    "- Logistic Regression\n",
    "- Long Short-Term Memory (LSTM)\n",
    "- Convolutional Neural Network (CNN)\n",
    "- Gated Recurrent Unit (GRU)\n",
    "\n",
    "To evaluate the performance of these models, we utilized a variety of metrics:\n",
    "\n",
    "- Accuracy: This metric quantifies the proportion of correctly predicted instances out of all instances. It is a straightforward measure and does not require any assumptions about the distribution of the classes.\n",
    "\n",
    "- Precision: This metric measures the proportion of true positives out of all instances predicted as positive. It indicates the accuracy of the positive predictions.\n",
    "\n",
    "- Recall: This metric measures the proportion of true positives out of all actual positive instances. It indicates the proportion of actual positive instances that were correctly predicted.\n",
    "\n",
    "\n",
    "Based on the above metrics the following models had high metric values:\n",
    "\n",
    "\n",
    "1. SVM with an overall accuracy of 71%.\n",
    "\n",
    "    - Class negative: precision of 87%, recall of 19%\n",
    "    - class No emotion: Precision of 72% with a recall of 90%\n",
    "    - class Positive: precision of 65% with a recall of 49%\n",
    "\n",
    "2. Logistic Regression with an overall accuracy of 68%.\n",
    "\n",
    "    - Class negative: precision of 59%, recall of 11%\n",
    "    - Class No emtotion: Precision of 72% with a recall of 86%\n",
    "    - Class Positive: precision of 59% with a recall of 50%\n",
    "\n",
    "The following models performed poorly:\n",
    "1. Decison Trees with overall accuracy of 61%\n",
    "2. GRU with a overall accuracy of 64%"
   ]
  },
  {
   "cell_type": "markdown",
   "metadata": {},
   "source": [
    "### Conclusion\n",
    "\n",
    "We were able to use various models in the study. We were able to integrate the concept of deep learning in this project.\n",
    "\n",
    "The models performed well on the training data but not on the test data. This could be due to the imbalance in the dataset, which affects the model's performance. \n",
    "\n"
   ]
  },
  {
   "cell_type": "markdown",
   "metadata": {},
   "source": [
    "### Recommendations\n",
    "Based on the accuracy of the models, we recommend that the SVM is the appropriate choice to use to rate the sentiment of  a tweet based on its content.\n",
    " \n",
    "The model had an accuracy of about 71%."
   ]
  },
  {
   "cell_type": "markdown",
   "metadata": {},
   "source": [
    "### Limitations\n",
    "\n",
    "- The model struggled to classify positive sentiment tweets as compared to other classes.\n",
    "- Identifying slang words and urban abbreviations to include in sentiment analysis. This will help to incorporate different generations especially the Gen Z and Gen Aplha who heavily use twitter.\n",
    "- Overfitting of our data."
   ]
  },
  {
   "cell_type": "markdown",
   "metadata": {},
   "source": [
    "### Next Steps\n",
    "- Incorporate slang words and urban abbreviations to include to improve sentiment analysis.\n",
    "- Implement real-time sentiment monitoring for Twitter to detect shifts in public sentiment.\n",
    "- Regularly assessing the performance of our recommended model, incorporate new data as it becomes accessible, and fine-tune it in response to evolving business requirements and customer behaviors."
   ]
  }
 ],
 "metadata": {
  "colab": {
   "include_colab_link": true,
   "provenance": []
  },
  "kernelspec": {
   "display_name": "learn-env",
   "language": "python",
   "name": "python3"
  },
  "language_info": {
   "codemirror_mode": {
    "name": "ipython",
    "version": 3
   },
   "file_extension": ".py",
   "mimetype": "text/x-python",
   "name": "python",
   "nbconvert_exporter": "python",
   "pygments_lexer": "ipython3",
   "version": "3.8.5"
  }
 },
 "nbformat": 4,
 "nbformat_minor": 4
}
